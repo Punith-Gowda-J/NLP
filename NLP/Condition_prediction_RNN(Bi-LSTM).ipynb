{
 "cells": [
  {
   "cell_type": "markdown",
   "id": "18ef80a4",
   "metadata": {},
   "source": [
    "# Import libraries"
   ]
  },
  {
   "cell_type": "code",
   "execution_count": 1,
   "id": "740ed534",
   "metadata": {},
   "outputs": [],
   "source": [
    "import pandas as pd # data preprocessing\n",
    "import itertools # confusion matrix\n",
    "import string\n",
    "import numpy as np\n",
    "import seaborn as sns\n",
    "from sklearn.feature_extraction.text import CountVectorizer, TfidfVectorizer\n",
    "from sklearn.model_selection import train_test_split\n",
    "from sklearn.linear_model import PassiveAggressiveClassifier\n",
    "from sklearn.naive_bayes import MultinomialNB\n",
    "from sklearn import metrics\n",
    "from sklearn.metrics import hamming_loss, accuracy_score\n",
    "import matplotlib.pyplot as plt\n",
    "%matplotlib inline\n",
    "# To show all the rows of pandas dataframe\n",
    "pd.set_option('display.max_rows', None)\n",
    "import spacy"
   ]
  },
  {
   "cell_type": "code",
   "execution_count": 2,
   "id": "70c19a2b",
   "metadata": {
    "scrolled": true
   },
   "outputs": [],
   "source": [
    "df = pd.read_csv(r\"D:\\DATA SCEINCE\\1. GL\\9. FINAL SORTED PROJECT\\Final_NLP_projects\\Drugs.csv\")"
   ]
  },
  {
   "cell_type": "code",
   "execution_count": 4,
   "id": "442481bc",
   "metadata": {},
   "outputs": [
    {
     "data": {
      "text/html": [
       "<div>\n",
       "<style scoped>\n",
       "    .dataframe tbody tr th:only-of-type {\n",
       "        vertical-align: middle;\n",
       "    }\n",
       "\n",
       "    .dataframe tbody tr th {\n",
       "        vertical-align: top;\n",
       "    }\n",
       "\n",
       "    .dataframe thead th {\n",
       "        text-align: right;\n",
       "    }\n",
       "</style>\n",
       "<table border=\"1\" class=\"dataframe\">\n",
       "  <thead>\n",
       "    <tr style=\"text-align: right;\">\n",
       "      <th></th>\n",
       "      <th>Unnamed: 0</th>\n",
       "      <th>drugName</th>\n",
       "      <th>condition</th>\n",
       "      <th>review</th>\n",
       "      <th>rating</th>\n",
       "      <th>date</th>\n",
       "      <th>usefulCount</th>\n",
       "    </tr>\n",
       "  </thead>\n",
       "  <tbody>\n",
       "    <tr>\n",
       "      <th>0</th>\n",
       "      <td>206461</td>\n",
       "      <td>Valsartan</td>\n",
       "      <td>Left Ventricular Dysfunction</td>\n",
       "      <td>\"It has no side effect, I take it in combinati...</td>\n",
       "      <td>9</td>\n",
       "      <td>May 20, 2012</td>\n",
       "      <td>27</td>\n",
       "    </tr>\n",
       "    <tr>\n",
       "      <th>1</th>\n",
       "      <td>95260</td>\n",
       "      <td>Guanfacine</td>\n",
       "      <td>ADHD</td>\n",
       "      <td>\"My son is halfway through his fourth week of ...</td>\n",
       "      <td>8</td>\n",
       "      <td>April 27, 2010</td>\n",
       "      <td>192</td>\n",
       "    </tr>\n",
       "    <tr>\n",
       "      <th>2</th>\n",
       "      <td>92703</td>\n",
       "      <td>Lybrel</td>\n",
       "      <td>Birth Control</td>\n",
       "      <td>\"I used to take another oral contraceptive, wh...</td>\n",
       "      <td>5</td>\n",
       "      <td>December 14, 2009</td>\n",
       "      <td>17</td>\n",
       "    </tr>\n",
       "    <tr>\n",
       "      <th>3</th>\n",
       "      <td>138000</td>\n",
       "      <td>Ortho Evra</td>\n",
       "      <td>Birth Control</td>\n",
       "      <td>\"This is my first time using any form of birth...</td>\n",
       "      <td>8</td>\n",
       "      <td>November 3, 2015</td>\n",
       "      <td>10</td>\n",
       "    </tr>\n",
       "    <tr>\n",
       "      <th>4</th>\n",
       "      <td>35696</td>\n",
       "      <td>Buprenorphine / naloxone</td>\n",
       "      <td>Opiate Dependence</td>\n",
       "      <td>\"Suboxone has completely turned my life around...</td>\n",
       "      <td>9</td>\n",
       "      <td>November 27, 2016</td>\n",
       "      <td>37</td>\n",
       "    </tr>\n",
       "  </tbody>\n",
       "</table>\n",
       "</div>"
      ],
      "text/plain": [
       "   Unnamed: 0                  drugName                     condition  \\\n",
       "0      206461                 Valsartan  Left Ventricular Dysfunction   \n",
       "1       95260                Guanfacine                          ADHD   \n",
       "2       92703                    Lybrel                 Birth Control   \n",
       "3      138000                Ortho Evra                 Birth Control   \n",
       "4       35696  Buprenorphine / naloxone             Opiate Dependence   \n",
       "\n",
       "                                              review  rating  \\\n",
       "0  \"It has no side effect, I take it in combinati...       9   \n",
       "1  \"My son is halfway through his fourth week of ...       8   \n",
       "2  \"I used to take another oral contraceptive, wh...       5   \n",
       "3  \"This is my first time using any form of birth...       8   \n",
       "4  \"Suboxone has completely turned my life around...       9   \n",
       "\n",
       "                date  usefulCount  \n",
       "0       May 20, 2012           27  \n",
       "1     April 27, 2010          192  \n",
       "2  December 14, 2009           17  \n",
       "3   November 3, 2015           10  \n",
       "4  November 27, 2016           37  "
      ]
     },
     "execution_count": 4,
     "metadata": {},
     "output_type": "execute_result"
    }
   ],
   "source": [
    "df.head()"
   ]
  },
  {
   "cell_type": "code",
   "execution_count": 97,
   "id": "ee6b6cc5",
   "metadata": {},
   "outputs": [
    {
     "data": {
      "text/plain": [
       "Birth Control      28788\n",
       "Depression          9069\n",
       "Pain                6145\n",
       "Anxiety             5904\n",
       "Acne                5588\n",
       "Bipolar Disorde     4224\n",
       "Insomnia            3673\n",
       "Weight Loss         3609\n",
       "Obesity             3568\n",
       "ADHD                3383\n",
       "Name: condition, dtype: int64"
      ]
     },
     "execution_count": 97,
     "metadata": {},
     "output_type": "execute_result"
    }
   ],
   "source": [
    "df.condition.value_counts()[:10]"
   ]
  },
  {
   "cell_type": "code",
   "execution_count": 84,
   "id": "ff4170a6",
   "metadata": {},
   "outputs": [
    {
     "data": {
      "text/plain": [
       "Levonorgestrel                        3631\n",
       "Etonogestrel                          3321\n",
       "Ethinyl estradiol / norethindrone     2750\n",
       "Nexplanon                             2156\n",
       "Ethinyl estradiol / norgestimate      2033\n",
       "Ethinyl estradiol / levonorgestrel    1809\n",
       "Phentermine                           1538\n",
       "Sertraline                            1353\n",
       "Escitalopram                          1287\n",
       "Mirena                                1242\n",
       "Name: drugName, dtype: int64"
      ]
     },
     "execution_count": 84,
     "metadata": {},
     "output_type": "execute_result"
    }
   ],
   "source": [
    "df.drugName.value_counts()[:10]"
   ]
  },
  {
   "cell_type": "code",
   "execution_count": 100,
   "id": "b1286d75",
   "metadata": {},
   "outputs": [
    {
     "data": {
      "text/plain": [
       "58957     0\n",
       "127103    0\n",
       "65615     0\n",
       "127098    0\n",
       "144989    0\n",
       "65660     0\n",
       "65664     0\n",
       "65670     0\n",
       "65684     0\n",
       "127054    0\n",
       "Name: usefulCount, dtype: int64"
      ]
     },
     "execution_count": 100,
     "metadata": {},
     "output_type": "execute_result"
    }
   ],
   "source": [
    "df.usefulCount.sort_values().head(10)"
   ]
  },
  {
   "cell_type": "code",
   "execution_count": 16,
   "id": "416f1a9d",
   "metadata": {},
   "outputs": [
    {
     "name": "stdout",
     "output_type": "stream",
     "text": [
      "Number of drugs found are: 3436\n",
      "Number of conditions found to be: 884\n"
     ]
    }
   ],
   "source": [
    "print('Number of drugs found are:' ,len(df.drugName.value_counts()))\n",
    "print('Number of conditions found to be:',len(df.condition.value_counts()))"
   ]
  },
  {
   "cell_type": "code",
   "execution_count": 17,
   "id": "2e62c9ba",
   "metadata": {},
   "outputs": [],
   "source": [
    "#multiple drugs are used for same condition "
   ]
  },
  {
   "cell_type": "code",
   "execution_count": 98,
   "id": "f6c28fd6",
   "metadata": {},
   "outputs": [
    {
     "data": {
      "text/html": [
       "<div>\n",
       "<style scoped>\n",
       "    .dataframe tbody tr th:only-of-type {\n",
       "        vertical-align: middle;\n",
       "    }\n",
       "\n",
       "    .dataframe tbody tr th {\n",
       "        vertical-align: top;\n",
       "    }\n",
       "\n",
       "    .dataframe thead th {\n",
       "        text-align: right;\n",
       "    }\n",
       "</style>\n",
       "<table border=\"1\" class=\"dataframe\">\n",
       "  <thead>\n",
       "    <tr style=\"text-align: right;\">\n",
       "      <th></th>\n",
       "      <th>drugName</th>\n",
       "      <th>condition</th>\n",
       "      <th>review</th>\n",
       "      <th>rating</th>\n",
       "      <th>usefulCount</th>\n",
       "      <th>cleaned_review</th>\n",
       "    </tr>\n",
       "  </thead>\n",
       "  <tbody>\n",
       "    <tr>\n",
       "      <th>42</th>\n",
       "      <td>Clonazepam</td>\n",
       "      <td>Panic Disorde</td>\n",
       "      <td>\"This medication changed my life.  My panic at...</td>\n",
       "      <td>9</td>\n",
       "      <td>30</td>\n",
       "      <td>This medication changed my life  My panic atta...</td>\n",
       "    </tr>\n",
       "    <tr>\n",
       "      <th>448</th>\n",
       "      <td>Clonazepam</td>\n",
       "      <td>Anxiety</td>\n",
       "      <td>\"Many people are unreasonably scared of Klonop...</td>\n",
       "      <td>10</td>\n",
       "      <td>261</td>\n",
       "      <td>Many people are unreasonably scared of Klonopi...</td>\n",
       "    </tr>\n",
       "    <tr>\n",
       "      <th>523</th>\n",
       "      <td>Clonazepam</td>\n",
       "      <td>Panic Disorde</td>\n",
       "      <td>\"I have PTSD, OCD, severe bipolar and severe b...</td>\n",
       "      <td>7</td>\n",
       "      <td>24</td>\n",
       "      <td>I have PTSD OCD severe bipolar and severe bord...</td>\n",
       "    </tr>\n",
       "    <tr>\n",
       "      <th>558</th>\n",
       "      <td>Clonazepam</td>\n",
       "      <td>Night Terrors</td>\n",
       "      <td>\"I had been taking anti-anxiety medication for...</td>\n",
       "      <td>5</td>\n",
       "      <td>9</td>\n",
       "      <td>I had been taking antianxiety medication for a...</td>\n",
       "    </tr>\n",
       "    <tr>\n",
       "      <th>771</th>\n",
       "      <td>Clonazepam</td>\n",
       "      <td>Anxiety</td>\n",
       "      <td>\"I have been on this anxiolytic longer than an...</td>\n",
       "      <td>9</td>\n",
       "      <td>47</td>\n",
       "      <td>I have been on this anxiolytic longer than any...</td>\n",
       "    </tr>\n",
       "    <tr>\n",
       "      <th>841</th>\n",
       "      <td>Clonazepam</td>\n",
       "      <td>Panic Disorde</td>\n",
       "      <td>\"Clonazepam has drastically improved my life. ...</td>\n",
       "      <td>10</td>\n",
       "      <td>8</td>\n",
       "      <td>Clonazepam has drastically improved my life I ...</td>\n",
       "    </tr>\n",
       "    <tr>\n",
       "      <th>877</th>\n",
       "      <td>Clonazepam</td>\n",
       "      <td>Insomnia</td>\n",
       "      <td>\"I have to weigh in about this med.  When you ...</td>\n",
       "      <td>1</td>\n",
       "      <td>49</td>\n",
       "      <td>I have to weigh in about this med  When you fi...</td>\n",
       "    </tr>\n",
       "    <tr>\n",
       "      <th>1118</th>\n",
       "      <td>Clonazepam</td>\n",
       "      <td>Panic Disorde</td>\n",
       "      <td>\"Helped me more than other benzodiapines.\"</td>\n",
       "      <td>9</td>\n",
       "      <td>13</td>\n",
       "      <td>Helped me more than other benzodiapines</td>\n",
       "    </tr>\n",
       "    <tr>\n",
       "      <th>1171</th>\n",
       "      <td>Clonazepam</td>\n",
       "      <td>Anxiety</td>\n",
       "      <td>\"I have been taking clonazepam .5 MG&amp;#039;s on...</td>\n",
       "      <td>10</td>\n",
       "      <td>20</td>\n",
       "      <td>I have been taking clonazepam  MGs once daily ...</td>\n",
       "    </tr>\n",
       "    <tr>\n",
       "      <th>1342</th>\n",
       "      <td>Clonazepam</td>\n",
       "      <td>Insomnia</td>\n",
       "      <td>\"Don&amp;#039;t start this drug for sleep or anxie...</td>\n",
       "      <td>1</td>\n",
       "      <td>33</td>\n",
       "      <td>Dont start this drug for sleep or anxiety Its ...</td>\n",
       "    </tr>\n",
       "  </tbody>\n",
       "</table>\n",
       "</div>"
      ],
      "text/plain": [
       "        drugName      condition  \\\n",
       "42    Clonazepam  Panic Disorde   \n",
       "448   Clonazepam        Anxiety   \n",
       "523   Clonazepam  Panic Disorde   \n",
       "558   Clonazepam  Night Terrors   \n",
       "771   Clonazepam        Anxiety   \n",
       "841   Clonazepam  Panic Disorde   \n",
       "877   Clonazepam       Insomnia   \n",
       "1118  Clonazepam  Panic Disorde   \n",
       "1171  Clonazepam        Anxiety   \n",
       "1342  Clonazepam       Insomnia   \n",
       "\n",
       "                                                 review  rating  usefulCount  \\\n",
       "42    \"This medication changed my life.  My panic at...       9           30   \n",
       "448   \"Many people are unreasonably scared of Klonop...      10          261   \n",
       "523   \"I have PTSD, OCD, severe bipolar and severe b...       7           24   \n",
       "558   \"I had been taking anti-anxiety medication for...       5            9   \n",
       "771   \"I have been on this anxiolytic longer than an...       9           47   \n",
       "841   \"Clonazepam has drastically improved my life. ...      10            8   \n",
       "877   \"I have to weigh in about this med.  When you ...       1           49   \n",
       "1118         \"Helped me more than other benzodiapines.\"       9           13   \n",
       "1171  \"I have been taking clonazepam .5 MG&#039;s on...      10           20   \n",
       "1342  \"Don&#039;t start this drug for sleep or anxie...       1           33   \n",
       "\n",
       "                                         cleaned_review  \n",
       "42    This medication changed my life  My panic atta...  \n",
       "448   Many people are unreasonably scared of Klonopi...  \n",
       "523   I have PTSD OCD severe bipolar and severe bord...  \n",
       "558   I had been taking antianxiety medication for a...  \n",
       "771   I have been on this anxiolytic longer than any...  \n",
       "841   Clonazepam has drastically improved my life I ...  \n",
       "877   I have to weigh in about this med  When you fi...  \n",
       "1118            Helped me more than other benzodiapines  \n",
       "1171  I have been taking clonazepam  MGs once daily ...  \n",
       "1342  Dont start this drug for sleep or anxiety Its ...  "
      ]
     },
     "execution_count": 98,
     "metadata": {},
     "output_type": "execute_result"
    }
   ],
   "source": [
    "df[df['drugName']=='Clonazepam'].head(10)"
   ]
  },
  {
   "cell_type": "code",
   "execution_count": 9,
   "id": "ead7e92a",
   "metadata": {},
   "outputs": [
    {
     "data": {
      "text/plain": [
       "Unnamed: 0       0\n",
       "drugName         0\n",
       "condition      899\n",
       "review           0\n",
       "rating           0\n",
       "date             0\n",
       "usefulCount      0\n",
       "dtype: int64"
      ]
     },
     "execution_count": 9,
     "metadata": {},
     "output_type": "execute_result"
    }
   ],
   "source": [
    "df.isnull().sum()"
   ]
  },
  {
   "cell_type": "code",
   "execution_count": 39,
   "id": "36656b61",
   "metadata": {},
   "outputs": [],
   "source": [
    "df.drop(['Unnamed: 0','date'],axis=1,inplace=True)"
   ]
  },
  {
   "cell_type": "code",
   "execution_count": 19,
   "id": "819978c0",
   "metadata": {},
   "outputs": [],
   "source": [
    "df.reset_index(inplace=True)"
   ]
  },
  {
   "cell_type": "code",
   "execution_count": 13,
   "id": "f8e6a8df",
   "metadata": {},
   "outputs": [],
   "source": [
    "df.dropna(inplace=True)"
   ]
  },
  {
   "cell_type": "code",
   "execution_count": 21,
   "id": "aadf3188",
   "metadata": {},
   "outputs": [],
   "source": [
    "df.drop('index',inplace=True,axis=1)"
   ]
  },
  {
   "cell_type": "code",
   "execution_count": 15,
   "id": "1339d4e3",
   "metadata": {},
   "outputs": [],
   "source": [
    "import nltk\n",
    "from nltk.tokenize.toktok import ToktokTokenizer\n",
    "import re\n",
    "import unicodedata"
   ]
  },
  {
   "cell_type": "code",
   "execution_count": 104,
   "id": "ef5380e8",
   "metadata": {},
   "outputs": [
    {
     "name": "stdout",
     "output_type": "stream",
     "text": [
      "<class 'pandas.core.frame.DataFrame'>\n",
      "Int64Index: 160398 entries, 0 to 161296\n",
      "Data columns (total 6 columns):\n",
      " #   Column          Non-Null Count   Dtype \n",
      "---  ------          --------------   ----- \n",
      " 0   drugName        160398 non-null  object\n",
      " 1   condition       160398 non-null  object\n",
      " 2   review          160398 non-null  object\n",
      " 3   rating          160398 non-null  int64 \n",
      " 4   usefulCount     160398 non-null  int64 \n",
      " 5   cleaned_review  160398 non-null  object\n",
      "dtypes: int64(2), object(4)\n",
      "memory usage: 12.6+ MB\n"
     ]
    }
   ],
   "source": [
    "df.info()"
   ]
  },
  {
   "cell_type": "code",
   "execution_count": 14,
   "id": "e68c99ac",
   "metadata": {},
   "outputs": [],
   "source": [
    "# clean the data\n",
    "def remove_special_characters(text):\n",
    "    pattern = r'[^a-zA-z\\s]'\n",
    "    text = re.sub(pattern, '', text)\n",
    "    return text"
   ]
  },
  {
   "cell_type": "code",
   "execution_count": 7,
   "id": "4d758382",
   "metadata": {},
   "outputs": [],
   "source": [
    "df['cleaned_review']=df['review'].apply(remove_special_characters)"
   ]
  },
  {
   "cell_type": "code",
   "execution_count": 110,
   "id": "59d33c9c",
   "metadata": {},
   "outputs": [
    {
     "data": {
      "text/html": [
       "<div>\n",
       "<style scoped>\n",
       "    .dataframe tbody tr th:only-of-type {\n",
       "        vertical-align: middle;\n",
       "    }\n",
       "\n",
       "    .dataframe tbody tr th {\n",
       "        vertical-align: top;\n",
       "    }\n",
       "\n",
       "    .dataframe thead th {\n",
       "        text-align: right;\n",
       "    }\n",
       "</style>\n",
       "<table border=\"1\" class=\"dataframe\">\n",
       "  <thead>\n",
       "    <tr style=\"text-align: right;\">\n",
       "      <th></th>\n",
       "      <th>drugName</th>\n",
       "      <th>condition</th>\n",
       "      <th>review</th>\n",
       "      <th>rating</th>\n",
       "      <th>usefulCount</th>\n",
       "      <th>cleaned_review</th>\n",
       "    </tr>\n",
       "  </thead>\n",
       "  <tbody>\n",
       "    <tr>\n",
       "      <th>0</th>\n",
       "      <td>Valsartan</td>\n",
       "      <td>Left Ventricular Dysfunction</td>\n",
       "      <td>It has no side effect, I take it in combinatio...</td>\n",
       "      <td>9</td>\n",
       "      <td>27</td>\n",
       "      <td>It has no side effect I take it in combination...</td>\n",
       "    </tr>\n",
       "    <tr>\n",
       "      <th>1</th>\n",
       "      <td>Guanfacine</td>\n",
       "      <td>ADHD</td>\n",
       "      <td>My son is halfway through his fourth week of I...</td>\n",
       "      <td>8</td>\n",
       "      <td>192</td>\n",
       "      <td>My son is halfway through his fourth week of I...</td>\n",
       "    </tr>\n",
       "    <tr>\n",
       "      <th>2</th>\n",
       "      <td>Lybrel</td>\n",
       "      <td>Birth Control</td>\n",
       "      <td>I used to take another oral contraceptive, whi...</td>\n",
       "      <td>5</td>\n",
       "      <td>17</td>\n",
       "      <td>I used to take another oral contraceptive whic...</td>\n",
       "    </tr>\n",
       "    <tr>\n",
       "      <th>3</th>\n",
       "      <td>Ortho Evra</td>\n",
       "      <td>Birth Control</td>\n",
       "      <td>This is my first time using any form of birth ...</td>\n",
       "      <td>8</td>\n",
       "      <td>10</td>\n",
       "      <td>This is my first time using any form of birth ...</td>\n",
       "    </tr>\n",
       "    <tr>\n",
       "      <th>4</th>\n",
       "      <td>Buprenorphine / naloxone</td>\n",
       "      <td>Opiate Dependence</td>\n",
       "      <td>Suboxone has completely turned my life around....</td>\n",
       "      <td>9</td>\n",
       "      <td>37</td>\n",
       "      <td>Suboxone has completely turned my life around ...</td>\n",
       "    </tr>\n",
       "  </tbody>\n",
       "</table>\n",
       "</div>"
      ],
      "text/plain": [
       "                   drugName                     condition  \\\n",
       "0                 Valsartan  Left Ventricular Dysfunction   \n",
       "1                Guanfacine                          ADHD   \n",
       "2                    Lybrel                 Birth Control   \n",
       "3                Ortho Evra                 Birth Control   \n",
       "4  Buprenorphine / naloxone             Opiate Dependence   \n",
       "\n",
       "                                              review  rating  usefulCount  \\\n",
       "0  It has no side effect, I take it in combinatio...       9           27   \n",
       "1  My son is halfway through his fourth week of I...       8          192   \n",
       "2  I used to take another oral contraceptive, whi...       5           17   \n",
       "3  This is my first time using any form of birth ...       8           10   \n",
       "4  Suboxone has completely turned my life around....       9           37   \n",
       "\n",
       "                                      cleaned_review  \n",
       "0  It has no side effect I take it in combination...  \n",
       "1  My son is halfway through his fourth week of I...  \n",
       "2  I used to take another oral contraceptive whic...  \n",
       "3  This is my first time using any form of birth ...  \n",
       "4  Suboxone has completely turned my life around ...  "
      ]
     },
     "execution_count": 110,
     "metadata": {},
     "output_type": "execute_result"
    }
   ],
   "source": [
    "df.head()"
   ]
  },
  {
   "cell_type": "markdown",
   "id": "1dbbf291",
   "metadata": {},
   "source": [
    "# Sentiment analysis using Afinn"
   ]
  },
  {
   "cell_type": "code",
   "execution_count": 16,
   "id": "52c86233",
   "metadata": {},
   "outputs": [],
   "source": [
    "from afinn import Afinn"
   ]
  },
  {
   "cell_type": "code",
   "execution_count": 17,
   "id": "40c1d53f",
   "metadata": {},
   "outputs": [],
   "source": [
    "af = Afinn()"
   ]
  },
  {
   "cell_type": "code",
   "execution_count": 14,
   "id": "b32a7614",
   "metadata": {
    "scrolled": true
   },
   "outputs": [
    {
     "ename": "NameError",
     "evalue": "name 'af' is not defined",
     "output_type": "error",
     "traceback": [
      "\u001b[1;31m---------------------------------------------------------------------------\u001b[0m",
      "\u001b[1;31mNameError\u001b[0m                                 Traceback (most recent call last)",
      "\u001b[1;32m~\\AppData\\Local\\Temp\\ipykernel_3904\\4036195656.py\u001b[0m in \u001b[0;36m<module>\u001b[1;34m\u001b[0m\n\u001b[1;32m----> 1\u001b[1;33m \u001b[0msentiment_scores\u001b[0m\u001b[1;33m=\u001b[0m\u001b[1;33m[\u001b[0m\u001b[0maf\u001b[0m\u001b[1;33m.\u001b[0m\u001b[0mscore\u001b[0m\u001b[1;33m(\u001b[0m\u001b[0marticle\u001b[0m\u001b[1;33m)\u001b[0m \u001b[1;32mfor\u001b[0m \u001b[0marticle\u001b[0m \u001b[1;32min\u001b[0m \u001b[0mdf\u001b[0m\u001b[1;33m.\u001b[0m\u001b[0mcleaned_review\u001b[0m\u001b[1;33m]\u001b[0m\u001b[1;33m\u001b[0m\u001b[1;33m\u001b[0m\u001b[0m\n\u001b[0m",
      "\u001b[1;32m~\\AppData\\Local\\Temp\\ipykernel_3904\\4036195656.py\u001b[0m in \u001b[0;36m<listcomp>\u001b[1;34m(.0)\u001b[0m\n\u001b[1;32m----> 1\u001b[1;33m \u001b[0msentiment_scores\u001b[0m\u001b[1;33m=\u001b[0m\u001b[1;33m[\u001b[0m\u001b[0maf\u001b[0m\u001b[1;33m.\u001b[0m\u001b[0mscore\u001b[0m\u001b[1;33m(\u001b[0m\u001b[0marticle\u001b[0m\u001b[1;33m)\u001b[0m \u001b[1;32mfor\u001b[0m \u001b[0marticle\u001b[0m \u001b[1;32min\u001b[0m \u001b[0mdf\u001b[0m\u001b[1;33m.\u001b[0m\u001b[0mcleaned_review\u001b[0m\u001b[1;33m]\u001b[0m\u001b[1;33m\u001b[0m\u001b[1;33m\u001b[0m\u001b[0m\n\u001b[0m",
      "\u001b[1;31mNameError\u001b[0m: name 'af' is not defined"
     ]
    }
   ],
   "source": [
    "sentiment_scores=[af.score(article) for article in df.cleaned_review]"
   ]
  },
  {
   "cell_type": "code",
   "execution_count": 142,
   "id": "b13d5e59",
   "metadata": {},
   "outputs": [],
   "source": [
    "sentiment_category = ['positive' if score > 0 \n",
    "                          else 'negative' if score < 0 \n",
    "                              else 'neutral' \n",
    "                                  for score in sentiment_scores]"
   ]
  },
  {
   "cell_type": "code",
   "execution_count": 206,
   "id": "dabeaf56",
   "metadata": {},
   "outputs": [],
   "source": [
    "af = pd.DataFrame([list(df['cleaned_review']), sentiment_scores, sentiment_category]).T\n",
    "af.columns = ['review', 'sentiment_score', 'sentiment_category']\n",
    "#sf['sentiment_score'] = df.sentiment_score.astype('float')\n"
   ]
  },
  {
   "cell_type": "code",
   "execution_count": 150,
   "id": "e6a4c59d",
   "metadata": {},
   "outputs": [
    {
     "data": {
      "text/html": [
       "<div>\n",
       "<style scoped>\n",
       "    .dataframe tbody tr th:only-of-type {\n",
       "        vertical-align: middle;\n",
       "    }\n",
       "\n",
       "    .dataframe tbody tr th {\n",
       "        vertical-align: top;\n",
       "    }\n",
       "\n",
       "    .dataframe thead th {\n",
       "        text-align: right;\n",
       "    }\n",
       "</style>\n",
       "<table border=\"1\" class=\"dataframe\">\n",
       "  <thead>\n",
       "    <tr style=\"text-align: right;\">\n",
       "      <th></th>\n",
       "      <th>review</th>\n",
       "      <th>sentiment_score</th>\n",
       "      <th>sentiment_category</th>\n",
       "    </tr>\n",
       "  </thead>\n",
       "  <tbody>\n",
       "    <tr>\n",
       "      <th>0</th>\n",
       "      <td>It has no side effect I take it in combination...</td>\n",
       "      <td>-1.0</td>\n",
       "      <td>negative</td>\n",
       "    </tr>\n",
       "    <tr>\n",
       "      <th>1</th>\n",
       "      <td>My son is halfway through his fourth week of I...</td>\n",
       "      <td>6.0</td>\n",
       "      <td>positive</td>\n",
       "    </tr>\n",
       "    <tr>\n",
       "      <th>2</th>\n",
       "      <td>I used to take another oral contraceptive whic...</td>\n",
       "      <td>1.0</td>\n",
       "      <td>positive</td>\n",
       "    </tr>\n",
       "    <tr>\n",
       "      <th>3</th>\n",
       "      <td>This is my first time using any form of birth ...</td>\n",
       "      <td>5.0</td>\n",
       "      <td>positive</td>\n",
       "    </tr>\n",
       "    <tr>\n",
       "      <th>4</th>\n",
       "      <td>Suboxone has completely turned my life around ...</td>\n",
       "      <td>7.0</td>\n",
       "      <td>positive</td>\n",
       "    </tr>\n",
       "  </tbody>\n",
       "</table>\n",
       "</div>"
      ],
      "text/plain": [
       "                                              review sentiment_score  \\\n",
       "0  It has no side effect I take it in combination...            -1.0   \n",
       "1  My son is halfway through his fourth week of I...             6.0   \n",
       "2  I used to take another oral contraceptive whic...             1.0   \n",
       "3  This is my first time using any form of birth ...             5.0   \n",
       "4  Suboxone has completely turned my life around ...             7.0   \n",
       "\n",
       "  sentiment_category  \n",
       "0           negative  \n",
       "1           positive  \n",
       "2           positive  \n",
       "3           positive  \n",
       "4           positive  "
      ]
     },
     "execution_count": 150,
     "metadata": {},
     "output_type": "execute_result"
    }
   ],
   "source": [
    "af.head()"
   ]
  },
  {
   "cell_type": "code",
   "execution_count": 157,
   "id": "a69a2f9a",
   "metadata": {},
   "outputs": [
    {
     "data": {
      "text/html": [
       "<div>\n",
       "<style scoped>\n",
       "    .dataframe tbody tr th:only-of-type {\n",
       "        vertical-align: middle;\n",
       "    }\n",
       "\n",
       "    .dataframe tbody tr th {\n",
       "        vertical-align: top;\n",
       "    }\n",
       "\n",
       "    .dataframe thead th {\n",
       "        text-align: right;\n",
       "    }\n",
       "</style>\n",
       "<table border=\"1\" class=\"dataframe\">\n",
       "  <thead>\n",
       "    <tr style=\"text-align: right;\">\n",
       "      <th></th>\n",
       "      <th>review</th>\n",
       "      <th>sentiment_score</th>\n",
       "      <th>sentiment_category</th>\n",
       "    </tr>\n",
       "  </thead>\n",
       "  <tbody>\n",
       "    <tr>\n",
       "      <th>0</th>\n",
       "      <td>It has no side effect I take it in combination...</td>\n",
       "      <td>-1.0</td>\n",
       "      <td>negative</td>\n",
       "    </tr>\n",
       "    <tr>\n",
       "      <th>5</th>\n",
       "      <td>nd day on mg started to work with rock hard er...</td>\n",
       "      <td>-1.0</td>\n",
       "      <td>negative</td>\n",
       "    </tr>\n",
       "    <tr>\n",
       "      <th>7</th>\n",
       "      <td>Abilify changed my life There is hope I was on...</td>\n",
       "      <td>-7.0</td>\n",
       "      <td>negative</td>\n",
       "    </tr>\n",
       "    <tr>\n",
       "      <th>8</th>\n",
       "      <td>I Ve had  nothing but problems with the Keppe...</td>\n",
       "      <td>-4.0</td>\n",
       "      <td>negative</td>\n",
       "    </tr>\n",
       "    <tr>\n",
       "      <th>12</th>\n",
       "      <td>I had Crohns with a resection  years ago and h...</td>\n",
       "      <td>-7.0</td>\n",
       "      <td>negative</td>\n",
       "    </tr>\n",
       "  </tbody>\n",
       "</table>\n",
       "</div>"
      ],
      "text/plain": [
       "                                               review sentiment_score  \\\n",
       "0   It has no side effect I take it in combination...            -1.0   \n",
       "5   nd day on mg started to work with rock hard er...            -1.0   \n",
       "7   Abilify changed my life There is hope I was on...            -7.0   \n",
       "8    I Ve had  nothing but problems with the Keppe...            -4.0   \n",
       "12  I had Crohns with a resection  years ago and h...            -7.0   \n",
       "\n",
       "   sentiment_category  \n",
       "0            negative  \n",
       "5            negative  \n",
       "7            negative  \n",
       "8            negative  \n",
       "12           negative  "
      ]
     },
     "execution_count": 157,
     "metadata": {},
     "output_type": "execute_result"
    }
   ],
   "source": [
    "af[af['sentiment_category']=='negative'].head()"
   ]
  },
  {
   "cell_type": "code",
   "execution_count": 158,
   "id": "80bdf3a2",
   "metadata": {},
   "outputs": [
    {
     "data": {
      "text/plain": [
       "'Abilify changed my life There is hope I was on Zoloft and Clonidine when I first started Abilify at the age of  Zoloft for depression and Clondine to manage my complete rage My moods were out of control I was depressed and hopeless one second and then mean irrational and full of rage the next My Dr prescribed me mg of Abilify and from that point on I feel like I have been cured though I know Im not Bipolar disorder is a constant battle I know Abilify works for me because I have tried to get off it and lost complete control over my emotions Went back on it and I was golden again  I am on mg x daily I am now  and better than I have ever been in the past Only side effect is I like to eat a lot'"
      ]
     },
     "execution_count": 158,
     "metadata": {},
     "output_type": "execute_result"
    }
   ],
   "source": [
    "af['review'][7]"
   ]
  },
  {
   "cell_type": "markdown",
   "id": "7ae8078f",
   "metadata": {
    "scrolled": true
   },
   "source": [
    "# Sentiment analysis using TextBlob"
   ]
  },
  {
   "cell_type": "code",
   "execution_count": 8,
   "id": "7d0aba5a",
   "metadata": {},
   "outputs": [],
   "source": [
    "from textblob import TextBlob"
   ]
  },
  {
   "cell_type": "code",
   "execution_count": 22,
   "id": "f15016ec",
   "metadata": {},
   "outputs": [],
   "source": [
    "sentiment_scores_tb = [round(TextBlob(article).sentiment.polarity, 3) for article in df.cleaned_review]"
   ]
  },
  {
   "cell_type": "code",
   "execution_count": 23,
   "id": "c1bfa0e5",
   "metadata": {},
   "outputs": [],
   "source": [
    "sentiment_category_tb = ['positive' if score > 0 \n",
    "                          else 'negative' if score < 0 \n",
    "                              else 'neutral' \n",
    "                                  for score in sentiment_scores_tb]"
   ]
  },
  {
   "cell_type": "code",
   "execution_count": null,
   "id": "e375af7e",
   "metadata": {},
   "outputs": [],
   "source": [
    "tf = pd.DataFrame([list(df['cleaned_review']), sentiment_scores_tb, sentiment_category_tb]).T\n",
    "tf.columns = ['review', 'sentiment_score_tb', 'sentiment_category']\n",
    "#sf['sentiment_score'] = df.sentiment_score.astype('float')"
   ]
  },
  {
   "cell_type": "code",
   "execution_count": 215,
   "id": "c9fe8142",
   "metadata": {},
   "outputs": [
    {
     "data": {
      "text/html": [
       "<div>\n",
       "<style scoped>\n",
       "    .dataframe tbody tr th:only-of-type {\n",
       "        vertical-align: middle;\n",
       "    }\n",
       "\n",
       "    .dataframe tbody tr th {\n",
       "        vertical-align: top;\n",
       "    }\n",
       "\n",
       "    .dataframe thead th {\n",
       "        text-align: right;\n",
       "    }\n",
       "</style>\n",
       "<table border=\"1\" class=\"dataframe\">\n",
       "  <thead>\n",
       "    <tr style=\"text-align: right;\">\n",
       "      <th></th>\n",
       "      <th>review</th>\n",
       "      <th>sentiment_score_tb</th>\n",
       "      <th>sentiment_category</th>\n",
       "    </tr>\n",
       "  </thead>\n",
       "  <tbody>\n",
       "    <tr>\n",
       "      <th>0</th>\n",
       "      <td>It has no side effect I take it in combination...</td>\n",
       "      <td>0.0</td>\n",
       "      <td>neutral</td>\n",
       "    </tr>\n",
       "    <tr>\n",
       "      <th>1</th>\n",
       "      <td>My son is halfway through his fourth week of I...</td>\n",
       "      <td>0.168</td>\n",
       "      <td>positive</td>\n",
       "    </tr>\n",
       "    <tr>\n",
       "      <th>2</th>\n",
       "      <td>I used to take another oral contraceptive whic...</td>\n",
       "      <td>0.067</td>\n",
       "      <td>positive</td>\n",
       "    </tr>\n",
       "    <tr>\n",
       "      <th>3</th>\n",
       "      <td>This is my first time using any form of birth ...</td>\n",
       "      <td>0.18</td>\n",
       "      <td>positive</td>\n",
       "    </tr>\n",
       "    <tr>\n",
       "      <th>4</th>\n",
       "      <td>Suboxone has completely turned my life around ...</td>\n",
       "      <td>0.194</td>\n",
       "      <td>positive</td>\n",
       "    </tr>\n",
       "  </tbody>\n",
       "</table>\n",
       "</div>"
      ],
      "text/plain": [
       "                                              review sentiment_score_tb  \\\n",
       "0  It has no side effect I take it in combination...                0.0   \n",
       "1  My son is halfway through his fourth week of I...              0.168   \n",
       "2  I used to take another oral contraceptive whic...              0.067   \n",
       "3  This is my first time using any form of birth ...               0.18   \n",
       "4  Suboxone has completely turned my life around ...              0.194   \n",
       "\n",
       "  sentiment_category  \n",
       "0            neutral  \n",
       "1           positive  \n",
       "2           positive  \n",
       "3           positive  \n",
       "4           positive  "
      ]
     },
     "execution_count": 215,
     "metadata": {},
     "output_type": "execute_result"
    }
   ],
   "source": [
    "tf.head()"
   ]
  },
  {
   "cell_type": "markdown",
   "id": "0c5d3291",
   "metadata": {},
   "source": [
    "# Sentiment analysis using Vader"
   ]
  },
  {
   "cell_type": "code",
   "execution_count": 118,
   "id": "097a299f",
   "metadata": {
    "collapsed": true
   },
   "outputs": [
    {
     "name": "stdout",
     "output_type": "stream",
     "text": [
      "Collecting vaderSentimentNote: you may need to restart the kernel to use updated packages.\n"
     ]
    },
    {
     "name": "stderr",
     "output_type": "stream",
     "text": [
      "WARNING: Ignoring invalid distribution -lac (c:\\users\\user\\anaconda3\\lib\\site-packages)\n",
      "WARNING: Ignoring invalid distribution -lac (c:\\users\\user\\anaconda3\\lib\\site-packages)\n",
      "WARNING: Ignoring invalid distribution -lac (c:\\users\\user\\anaconda3\\lib\\site-packages)\n",
      "WARNING: Ignoring invalid distribution -lac (c:\\users\\user\\anaconda3\\lib\\site-packages)\n",
      "WARNING: Ignoring invalid distribution -lac (c:\\users\\user\\anaconda3\\lib\\site-packages)\n",
      "WARNING: Ignoring invalid distribution -lac (c:\\users\\user\\anaconda3\\lib\\site-packages)\n",
      "WARNING: Ignoring invalid distribution -lac (c:\\users\\user\\anaconda3\\lib\\site-packages)\n"
     ]
    },
    {
     "name": "stdout",
     "output_type": "stream",
     "text": [
      "\n",
      "  Downloading vaderSentiment-3.3.2-py2.py3-none-any.whl (125 kB)\n",
      "     -------------------------------------- 126.0/126.0 kB 1.2 MB/s eta 0:00:00\n",
      "Requirement already satisfied: requests in c:\\users\\user\\anaconda3\\lib\\site-packages (from vaderSentiment) (2.28.1)\n",
      "Requirement already satisfied: urllib3<1.27,>=1.21.1 in c:\\users\\user\\anaconda3\\lib\\site-packages (from requests->vaderSentiment) (1.26.11)\n",
      "Requirement already satisfied: certifi>=2017.4.17 in c:\\users\\user\\anaconda3\\lib\\site-packages (from requests->vaderSentiment) (2022.9.14)\n",
      "Requirement already satisfied: idna<4,>=2.5 in c:\\users\\user\\anaconda3\\lib\\site-packages (from requests->vaderSentiment) (3.3)\n",
      "Requirement already satisfied: charset-normalizer<3,>=2 in c:\\users\\user\\anaconda3\\lib\\site-packages (from requests->vaderSentiment) (2.0.4)\n",
      "Installing collected packages: vaderSentiment\n",
      "Successfully installed vaderSentiment-3.3.2\n"
     ]
    }
   ],
   "source": [
    "pip install vaderSentiment"
   ]
  },
  {
   "cell_type": "code",
   "execution_count": 119,
   "id": "664676f3",
   "metadata": {},
   "outputs": [],
   "source": [
    "from vaderSentiment.vaderSentiment import SentimentIntensityAnalyzer"
   ]
  },
  {
   "cell_type": "code",
   "execution_count": 120,
   "id": "032874e8",
   "metadata": {},
   "outputs": [],
   "source": [
    "analyzer = SentimentIntensityAnalyzer()"
   ]
  },
  {
   "cell_type": "code",
   "execution_count": 122,
   "id": "d5723fac",
   "metadata": {},
   "outputs": [],
   "source": [
    "df['rating'] = df['cleaned_review'].apply(analyser.polarity_scores)"
   ]
  },
  {
   "cell_type": "raw",
   "id": "e6025d11",
   "metadata": {},
   "source": [
    "\n",
    "df['compound'] = [analyzer.polarity_scores(x)['compound'] for x in df['cleaned_review']]\n",
    "df['neg'] = [analyzer.polarity_scores(x)['neg'] for x in df['cleaned_review']]\n",
    "df['neu'] = [analyzer.polarity_scores(x)['neu'] for x in df['cleaned_review']]\n",
    "df['pos'] = [analyzer.polarity_scores(x)['pos'] for x in df['cleaned_review']]"
   ]
  },
  {
   "cell_type": "code",
   "execution_count": 124,
   "id": "d0470634",
   "metadata": {},
   "outputs": [],
   "source": [
    "vf=df[['review','rating']]"
   ]
  },
  {
   "cell_type": "code",
   "execution_count": 126,
   "id": "bd6fc675",
   "metadata": {},
   "outputs": [
    {
     "data": {
      "text/html": [
       "<div>\n",
       "<style scoped>\n",
       "    .dataframe tbody tr th:only-of-type {\n",
       "        vertical-align: middle;\n",
       "    }\n",
       "\n",
       "    .dataframe tbody tr th {\n",
       "        vertical-align: top;\n",
       "    }\n",
       "\n",
       "    .dataframe thead th {\n",
       "        text-align: right;\n",
       "    }\n",
       "</style>\n",
       "<table border=\"1\" class=\"dataframe\">\n",
       "  <thead>\n",
       "    <tr style=\"text-align: right;\">\n",
       "      <th></th>\n",
       "      <th>review</th>\n",
       "      <th>rating</th>\n",
       "    </tr>\n",
       "  </thead>\n",
       "  <tbody>\n",
       "    <tr>\n",
       "      <th>160393</th>\n",
       "      <td>\"I wrote my first report in Mid-October of 201...</td>\n",
       "      <td>{'neg': 0.038, 'neu': 0.815, 'pos': 0.147, 'co...</td>\n",
       "    </tr>\n",
       "    <tr>\n",
       "      <th>160394</th>\n",
       "      <td>\"I was given this in IV before surgey. I immed...</td>\n",
       "      <td>{'neg': 0.144, 'neu': 0.766, 'pos': 0.089, 'co...</td>\n",
       "    </tr>\n",
       "    <tr>\n",
       "      <th>160395</th>\n",
       "      <td>\"Limited improvement after 4 months, developed...</td>\n",
       "      <td>{'neg': 0.484, 'neu': 0.376, 'pos': 0.141, 'co...</td>\n",
       "    </tr>\n",
       "    <tr>\n",
       "      <th>160396</th>\n",
       "      <td>\"I&amp;#039;ve been on thyroid medication 49 years...</td>\n",
       "      <td>{'neg': 0.052, 'neu': 0.821, 'pos': 0.128, 'co...</td>\n",
       "    </tr>\n",
       "    <tr>\n",
       "      <th>160397</th>\n",
       "      <td>\"I&amp;#039;ve had chronic constipation all my adu...</td>\n",
       "      <td>{'neg': 0.027, 'neu': 0.786, 'pos': 0.187, 'co...</td>\n",
       "    </tr>\n",
       "  </tbody>\n",
       "</table>\n",
       "</div>"
      ],
      "text/plain": [
       "                                                   review  \\\n",
       "160393  \"I wrote my first report in Mid-October of 201...   \n",
       "160394  \"I was given this in IV before surgey. I immed...   \n",
       "160395  \"Limited improvement after 4 months, developed...   \n",
       "160396  \"I&#039;ve been on thyroid medication 49 years...   \n",
       "160397  \"I&#039;ve had chronic constipation all my adu...   \n",
       "\n",
       "                                                   rating  \n",
       "160393  {'neg': 0.038, 'neu': 0.815, 'pos': 0.147, 'co...  \n",
       "160394  {'neg': 0.144, 'neu': 0.766, 'pos': 0.089, 'co...  \n",
       "160395  {'neg': 0.484, 'neu': 0.376, 'pos': 0.141, 'co...  \n",
       "160396  {'neg': 0.052, 'neu': 0.821, 'pos': 0.128, 'co...  \n",
       "160397  {'neg': 0.027, 'neu': 0.786, 'pos': 0.187, 'co...  "
      ]
     },
     "execution_count": 126,
     "metadata": {},
     "output_type": "execute_result"
    }
   ],
   "source": [
    "vf.tail()"
   ]
  },
  {
   "cell_type": "markdown",
   "id": "53759ae4",
   "metadata": {},
   "source": [
    "# Comparing the both "
   ]
  },
  {
   "cell_type": "code",
   "execution_count": 216,
   "id": "3d6d7ce5",
   "metadata": {},
   "outputs": [
    {
     "data": {
      "text/html": [
       "<div>\n",
       "<style scoped>\n",
       "    .dataframe tbody tr th:only-of-type {\n",
       "        vertical-align: middle;\n",
       "    }\n",
       "\n",
       "    .dataframe tbody tr th {\n",
       "        vertical-align: top;\n",
       "    }\n",
       "\n",
       "    .dataframe thead th {\n",
       "        text-align: right;\n",
       "    }\n",
       "</style>\n",
       "<table border=\"1\" class=\"dataframe\">\n",
       "  <thead>\n",
       "    <tr style=\"text-align: right;\">\n",
       "      <th></th>\n",
       "      <th>review</th>\n",
       "      <th>sentiment_score_tb</th>\n",
       "      <th>sentiment_category</th>\n",
       "    </tr>\n",
       "  </thead>\n",
       "  <tbody>\n",
       "    <tr>\n",
       "      <th>0</th>\n",
       "      <td>It has no side effect I take it in combination...</td>\n",
       "      <td>0.0</td>\n",
       "      <td>neutral</td>\n",
       "    </tr>\n",
       "    <tr>\n",
       "      <th>24</th>\n",
       "      <td>Do not use the cream that comes with this It t...</td>\n",
       "      <td>0.0</td>\n",
       "      <td>neutral</td>\n",
       "    </tr>\n",
       "    <tr>\n",
       "      <th>44</th>\n",
       "      <td>At initial testing my VL was over  million I r...</td>\n",
       "      <td>0.0</td>\n",
       "      <td>neutral</td>\n",
       "    </tr>\n",
       "    <tr>\n",
       "      <th>53</th>\n",
       "      <td>My mother died from lung cancer Her last hope ...</td>\n",
       "      <td>0.0</td>\n",
       "      <td>neutral</td>\n",
       "    </tr>\n",
       "    <tr>\n",
       "      <th>67</th>\n",
       "      <td>it caused me to gain  pounds</td>\n",
       "      <td>0.0</td>\n",
       "      <td>neutral</td>\n",
       "    </tr>\n",
       "  </tbody>\n",
       "</table>\n",
       "</div>"
      ],
      "text/plain": [
       "                                               review sentiment_score_tb  \\\n",
       "0   It has no side effect I take it in combination...                0.0   \n",
       "24  Do not use the cream that comes with this It t...                0.0   \n",
       "44  At initial testing my VL was over  million I r...                0.0   \n",
       "53  My mother died from lung cancer Her last hope ...                0.0   \n",
       "67                       it caused me to gain  pounds                0.0   \n",
       "\n",
       "   sentiment_category  \n",
       "0             neutral  \n",
       "24            neutral  \n",
       "44            neutral  \n",
       "53            neutral  \n",
       "67            neutral  "
      ]
     },
     "execution_count": 216,
     "metadata": {},
     "output_type": "execute_result"
    }
   ],
   "source": [
    "tf[tf.sentiment_category=='neutral'].head()"
   ]
  },
  {
   "cell_type": "code",
   "execution_count": 221,
   "id": "9316a9de",
   "metadata": {},
   "outputs": [
    {
     "data": {
      "text/html": [
       "<div>\n",
       "<style scoped>\n",
       "    .dataframe tbody tr th:only-of-type {\n",
       "        vertical-align: middle;\n",
       "    }\n",
       "\n",
       "    .dataframe tbody tr th {\n",
       "        vertical-align: top;\n",
       "    }\n",
       "\n",
       "    .dataframe thead th {\n",
       "        text-align: right;\n",
       "    }\n",
       "</style>\n",
       "<table border=\"1\" class=\"dataframe\">\n",
       "  <thead>\n",
       "    <tr style=\"text-align: right;\">\n",
       "      <th></th>\n",
       "      <th>review</th>\n",
       "      <th>sentiment_score_tb</th>\n",
       "      <th>sentiment_category</th>\n",
       "    </tr>\n",
       "  </thead>\n",
       "  <tbody>\n",
       "    <tr>\n",
       "      <th>12</th>\n",
       "      <td>I had Crohns with a resection  years ago and h...</td>\n",
       "      <td>-0.107</td>\n",
       "      <td>negative</td>\n",
       "    </tr>\n",
       "    <tr>\n",
       "      <th>13</th>\n",
       "      <td>Have a little bit of a lingering cough from a ...</td>\n",
       "      <td>-0.037</td>\n",
       "      <td>negative</td>\n",
       "    </tr>\n",
       "    <tr>\n",
       "      <th>19</th>\n",
       "      <td>I have been on Tasigna for just over  years no...</td>\n",
       "      <td>-0.111</td>\n",
       "      <td>negative</td>\n",
       "    </tr>\n",
       "    <tr>\n",
       "      <th>31</th>\n",
       "      <td>I am  years old I had a multiple composite spi...</td>\n",
       "      <td>-0.228</td>\n",
       "      <td>negative</td>\n",
       "    </tr>\n",
       "    <tr>\n",
       "      <th>32</th>\n",
       "      <td>The burning is out of control about  minutes a...</td>\n",
       "      <td>-1.0</td>\n",
       "      <td>negative</td>\n",
       "    </tr>\n",
       "  </tbody>\n",
       "</table>\n",
       "</div>"
      ],
      "text/plain": [
       "                                               review sentiment_score_tb  \\\n",
       "12  I had Crohns with a resection  years ago and h...             -0.107   \n",
       "13  Have a little bit of a lingering cough from a ...             -0.037   \n",
       "19  I have been on Tasigna for just over  years no...             -0.111   \n",
       "31  I am  years old I had a multiple composite spi...             -0.228   \n",
       "32  The burning is out of control about  minutes a...               -1.0   \n",
       "\n",
       "   sentiment_category  \n",
       "12           negative  \n",
       "13           negative  \n",
       "19           negative  \n",
       "31           negative  \n",
       "32           negative  "
      ]
     },
     "execution_count": 221,
     "metadata": {},
     "output_type": "execute_result"
    }
   ],
   "source": [
    "tf[tf.sentiment_category=='negative'].head()"
   ]
  },
  {
   "cell_type": "code",
   "execution_count": 228,
   "id": "0206e8ad",
   "metadata": {},
   "outputs": [
    {
     "data": {
      "text/html": [
       "<div>\n",
       "<style scoped>\n",
       "    .dataframe tbody tr th:only-of-type {\n",
       "        vertical-align: middle;\n",
       "    }\n",
       "\n",
       "    .dataframe tbody tr th {\n",
       "        vertical-align: top;\n",
       "    }\n",
       "\n",
       "    .dataframe thead th {\n",
       "        text-align: right;\n",
       "    }\n",
       "</style>\n",
       "<table border=\"1\" class=\"dataframe\">\n",
       "  <thead>\n",
       "    <tr style=\"text-align: right;\">\n",
       "      <th></th>\n",
       "      <th>review</th>\n",
       "      <th>sentiment_score</th>\n",
       "      <th>sentiment_category</th>\n",
       "      <th>text_lemmatized</th>\n",
       "    </tr>\n",
       "  </thead>\n",
       "  <tbody>\n",
       "    <tr>\n",
       "      <th>0</th>\n",
       "      <td>It has no side effect I take it in combination...</td>\n",
       "      <td>-1.0</td>\n",
       "      <td>negative</td>\n",
       "      <td>[It, ha, no, side, effect, I, take, it, in, co...</td>\n",
       "    </tr>\n",
       "    <tr>\n",
       "      <th>5</th>\n",
       "      <td>nd day on mg started to work with rock hard er...</td>\n",
       "      <td>-1.0</td>\n",
       "      <td>negative</td>\n",
       "      <td>[nd, day, on, mg, started, to, work, with, roc...</td>\n",
       "    </tr>\n",
       "    <tr>\n",
       "      <th>7</th>\n",
       "      <td>Abilify changed my life There is hope I was on...</td>\n",
       "      <td>-7.0</td>\n",
       "      <td>negative</td>\n",
       "      <td>[Abilify, changed, my, life, There, is, hope, ...</td>\n",
       "    </tr>\n",
       "    <tr>\n",
       "      <th>8</th>\n",
       "      <td>I Ve had  nothing but problems with the Keppe...</td>\n",
       "      <td>-4.0</td>\n",
       "      <td>negative</td>\n",
       "      <td>[I, Ve, had, nothing, but, problem, with, the,...</td>\n",
       "    </tr>\n",
       "    <tr>\n",
       "      <th>12</th>\n",
       "      <td>I had Crohns with a resection  years ago and h...</td>\n",
       "      <td>-7.0</td>\n",
       "      <td>negative</td>\n",
       "      <td>[I, had, Crohns, with, a, resection, year, ago...</td>\n",
       "    </tr>\n",
       "  </tbody>\n",
       "</table>\n",
       "</div>"
      ],
      "text/plain": [
       "                                               review sentiment_score  \\\n",
       "0   It has no side effect I take it in combination...            -1.0   \n",
       "5   nd day on mg started to work with rock hard er...            -1.0   \n",
       "7   Abilify changed my life There is hope I was on...            -7.0   \n",
       "8    I Ve had  nothing but problems with the Keppe...            -4.0   \n",
       "12  I had Crohns with a resection  years ago and h...            -7.0   \n",
       "\n",
       "   sentiment_category                                    text_lemmatized  \n",
       "0            negative  [It, ha, no, side, effect, I, take, it, in, co...  \n",
       "5            negative  [nd, day, on, mg, started, to, work, with, roc...  \n",
       "7            negative  [Abilify, changed, my, life, There, is, hope, ...  \n",
       "8            negative  [I, Ve, had, nothing, but, problem, with, the,...  \n",
       "12           negative  [I, had, Crohns, with, a, resection, year, ago...  "
      ]
     },
     "execution_count": 228,
     "metadata": {},
     "output_type": "execute_result"
    }
   ],
   "source": [
    "af[af.sentiment_category=='negative'].head()"
   ]
  },
  {
   "cell_type": "markdown",
   "id": "bec8f279",
   "metadata": {},
   "source": [
    "# create a new dataframe for classification of condition"
   ]
  },
  {
   "cell_type": "code",
   "execution_count": 51,
   "id": "0717fcc9",
   "metadata": {},
   "outputs": [],
   "source": [
    "df1=pd.concat((df[['condition','drugName','rating','usefulCount']],tf), axis=1)"
   ]
  },
  {
   "cell_type": "code",
   "execution_count": 52,
   "id": "c3886106",
   "metadata": {},
   "outputs": [
    {
     "data": {
      "text/html": [
       "<div>\n",
       "<style scoped>\n",
       "    .dataframe tbody tr th:only-of-type {\n",
       "        vertical-align: middle;\n",
       "    }\n",
       "\n",
       "    .dataframe tbody tr th {\n",
       "        vertical-align: top;\n",
       "    }\n",
       "\n",
       "    .dataframe thead th {\n",
       "        text-align: right;\n",
       "    }\n",
       "</style>\n",
       "<table border=\"1\" class=\"dataframe\">\n",
       "  <thead>\n",
       "    <tr style=\"text-align: right;\">\n",
       "      <th></th>\n",
       "      <th>condition</th>\n",
       "      <th>drugName</th>\n",
       "      <th>rating</th>\n",
       "      <th>usefulCount</th>\n",
       "      <th>review</th>\n",
       "      <th>sentiment_score_tb</th>\n",
       "      <th>sentiment_category</th>\n",
       "    </tr>\n",
       "  </thead>\n",
       "  <tbody>\n",
       "    <tr>\n",
       "      <th>0</th>\n",
       "      <td>Left Ventricular Dysfunction</td>\n",
       "      <td>Valsartan</td>\n",
       "      <td>9</td>\n",
       "      <td>27</td>\n",
       "      <td>It has no side effect I take it in combination...</td>\n",
       "      <td>0.0</td>\n",
       "      <td>neutral</td>\n",
       "    </tr>\n",
       "    <tr>\n",
       "      <th>1</th>\n",
       "      <td>ADHD</td>\n",
       "      <td>Guanfacine</td>\n",
       "      <td>8</td>\n",
       "      <td>192</td>\n",
       "      <td>My son is halfway through his fourth week of I...</td>\n",
       "      <td>0.168</td>\n",
       "      <td>positive</td>\n",
       "    </tr>\n",
       "    <tr>\n",
       "      <th>2</th>\n",
       "      <td>Birth Control</td>\n",
       "      <td>Lybrel</td>\n",
       "      <td>5</td>\n",
       "      <td>17</td>\n",
       "      <td>I used to take another oral contraceptive whic...</td>\n",
       "      <td>0.067</td>\n",
       "      <td>positive</td>\n",
       "    </tr>\n",
       "    <tr>\n",
       "      <th>3</th>\n",
       "      <td>Birth Control</td>\n",
       "      <td>Ortho Evra</td>\n",
       "      <td>8</td>\n",
       "      <td>10</td>\n",
       "      <td>This is my first time using any form of birth ...</td>\n",
       "      <td>0.18</td>\n",
       "      <td>positive</td>\n",
       "    </tr>\n",
       "    <tr>\n",
       "      <th>4</th>\n",
       "      <td>Opiate Dependence</td>\n",
       "      <td>Buprenorphine / naloxone</td>\n",
       "      <td>9</td>\n",
       "      <td>37</td>\n",
       "      <td>Suboxone has completely turned my life around ...</td>\n",
       "      <td>0.194</td>\n",
       "      <td>positive</td>\n",
       "    </tr>\n",
       "  </tbody>\n",
       "</table>\n",
       "</div>"
      ],
      "text/plain": [
       "                      condition                  drugName  rating  \\\n",
       "0  Left Ventricular Dysfunction                 Valsartan       9   \n",
       "1                          ADHD                Guanfacine       8   \n",
       "2                 Birth Control                    Lybrel       5   \n",
       "3                 Birth Control                Ortho Evra       8   \n",
       "4             Opiate Dependence  Buprenorphine / naloxone       9   \n",
       "\n",
       "   usefulCount                                             review  \\\n",
       "0           27  It has no side effect I take it in combination...   \n",
       "1          192  My son is halfway through his fourth week of I...   \n",
       "2           17  I used to take another oral contraceptive whic...   \n",
       "3           10  This is my first time using any form of birth ...   \n",
       "4           37  Suboxone has completely turned my life around ...   \n",
       "\n",
       "  sentiment_score_tb sentiment_category  \n",
       "0                0.0            neutral  \n",
       "1              0.168           positive  \n",
       "2              0.067           positive  \n",
       "3               0.18           positive  \n",
       "4              0.194           positive  "
      ]
     },
     "execution_count": 52,
     "metadata": {},
     "output_type": "execute_result"
    }
   ],
   "source": [
    "df1.head()"
   ]
  },
  {
   "cell_type": "code",
   "execution_count": 53,
   "id": "6165dea9",
   "metadata": {},
   "outputs": [],
   "source": [
    "clf_df=df1[['condition','review']]"
   ]
  },
  {
   "cell_type": "code",
   "execution_count": 54,
   "id": "194e9e4f",
   "metadata": {},
   "outputs": [
    {
     "data": {
      "text/plain": [
       "condition    0\n",
       "review       0\n",
       "dtype: int64"
      ]
     },
     "execution_count": 54,
     "metadata": {},
     "output_type": "execute_result"
    }
   ],
   "source": [
    "clf_df.isnull().sum()"
   ]
  },
  {
   "cell_type": "code",
   "execution_count": 55,
   "id": "1e238a1d",
   "metadata": {},
   "outputs": [
    {
     "data": {
      "text/html": [
       "<div>\n",
       "<style scoped>\n",
       "    .dataframe tbody tr th:only-of-type {\n",
       "        vertical-align: middle;\n",
       "    }\n",
       "\n",
       "    .dataframe tbody tr th {\n",
       "        vertical-align: top;\n",
       "    }\n",
       "\n",
       "    .dataframe thead th {\n",
       "        text-align: right;\n",
       "    }\n",
       "</style>\n",
       "<table border=\"1\" class=\"dataframe\">\n",
       "  <thead>\n",
       "    <tr style=\"text-align: right;\">\n",
       "      <th></th>\n",
       "      <th>condition</th>\n",
       "      <th>review</th>\n",
       "    </tr>\n",
       "  </thead>\n",
       "  <tbody>\n",
       "    <tr>\n",
       "      <th>0</th>\n",
       "      <td>Left Ventricular Dysfunction</td>\n",
       "      <td>It has no side effect I take it in combination...</td>\n",
       "    </tr>\n",
       "    <tr>\n",
       "      <th>1</th>\n",
       "      <td>ADHD</td>\n",
       "      <td>My son is halfway through his fourth week of I...</td>\n",
       "    </tr>\n",
       "    <tr>\n",
       "      <th>2</th>\n",
       "      <td>Birth Control</td>\n",
       "      <td>I used to take another oral contraceptive whic...</td>\n",
       "    </tr>\n",
       "    <tr>\n",
       "      <th>3</th>\n",
       "      <td>Birth Control</td>\n",
       "      <td>This is my first time using any form of birth ...</td>\n",
       "    </tr>\n",
       "    <tr>\n",
       "      <th>4</th>\n",
       "      <td>Opiate Dependence</td>\n",
       "      <td>Suboxone has completely turned my life around ...</td>\n",
       "    </tr>\n",
       "  </tbody>\n",
       "</table>\n",
       "</div>"
      ],
      "text/plain": [
       "                      condition  \\\n",
       "0  Left Ventricular Dysfunction   \n",
       "1                          ADHD   \n",
       "2                 Birth Control   \n",
       "3                 Birth Control   \n",
       "4             Opiate Dependence   \n",
       "\n",
       "                                              review  \n",
       "0  It has no side effect I take it in combination...  \n",
       "1  My son is halfway through his fourth week of I...  \n",
       "2  I used to take another oral contraceptive whic...  \n",
       "3  This is my first time using any form of birth ...  \n",
       "4  Suboxone has completely turned my life around ...  "
      ]
     },
     "execution_count": 55,
     "metadata": {},
     "output_type": "execute_result"
    }
   ],
   "source": [
    "clf_df.head()"
   ]
  },
  {
   "cell_type": "markdown",
   "id": "c04535b3",
   "metadata": {},
   "source": [
    "# lemmatization"
   ]
  },
  {
   "cell_type": "code",
   "execution_count": 75,
   "id": "9c555b15",
   "metadata": {},
   "outputs": [],
   "source": [
    "nlp = spacy.load('en_core_web_sm')"
   ]
  },
  {
   "cell_type": "code",
   "execution_count": 57,
   "id": "ee286ff7",
   "metadata": {},
   "outputs": [],
   "source": [
    "import spacy\n",
    "import nltk\n",
    "from nltk.tokenize.toktok import ToktokTokenizer\n",
    "import re\n",
    "import unicodedata"
   ]
  },
  {
   "cell_type": "code",
   "execution_count": 76,
   "id": "6b42f0a5",
   "metadata": {},
   "outputs": [],
   "source": [
    "def lemmatize_txt(text):\n",
    "    text = nlp(text)\n",
    "    text = ' '.join([word.lemma_ if word.lemma_ != '-PRON-' else word.text for word in text])\n",
    "    return text"
   ]
  },
  {
   "cell_type": "code",
   "execution_count": 82,
   "id": "effbb935",
   "metadata": {},
   "outputs": [
    {
     "data": {
      "text/plain": [
       "'I use to take another oral contraceptive which have   pill cycle and be very happy very light period max   day no other side effect but it contain hormone gestodene which be not available in US so I switch to Lybrel because the ingredient be similar when my other pill end I start Lybrel immediately on my first day of period as the instruction say and the period last for two week when take the second pack same two week and now with third pack thing get even bad my third period last for two week and now its the end of the third week I still have daily brown discharge \\r\\n the positive side be that I do not have any other side effect the idea of be period free be so tempting Alas'"
      ]
     },
     "execution_count": 82,
     "metadata": {},
     "output_type": "execute_result"
    }
   ],
   "source": [
    "lemmatize_txt((clf_df.review[2]))"
   ]
  },
  {
   "cell_type": "code",
   "execution_count": 61,
   "id": "6e5c812c",
   "metadata": {},
   "outputs": [],
   "source": [
    "import nltk\n",
    "\n",
    "w_tokenizer = nltk.tokenize.WhitespaceTokenizer()\n",
    "lemmatizer = nltk.stem.WordNetLemmatizer()\n"
   ]
  },
  {
   "cell_type": "code",
   "execution_count": 78,
   "id": "1acfdf6c",
   "metadata": {},
   "outputs": [],
   "source": [
    "#stemming\n",
    "#use this\n",
    "def lemmatize_text(text):\n",
    "    l_words=[lemmatizer.lemmatize(w) for w in w_tokenizer.tokenize(text)]\n",
    "    return (' '.join(l_words))"
   ]
  },
  {
   "cell_type": "code",
   "execution_count": 80,
   "id": "544e9de8",
   "metadata": {},
   "outputs": [
    {
     "data": {
      "text/plain": [
       "'I used to take another oral contraceptive which had pill cycle and wa very happy very light period max day no other side effect But it contained hormone gestodene which is not available in US so I switched to Lybrel because the ingredient are similar When my other pill ended I started Lybrel immediately on my first day of period a the instruction said And the period lasted for two week When taking the second pack same two week And now with third pack thing got even worse my third period lasted for two week and now it the end of the third week I still have daily brown discharge The positive side is that I didnt have any other side effect The idea of being period free wa so tempting Alas'"
      ]
     },
     "execution_count": 80,
     "metadata": {},
     "output_type": "execute_result"
    }
   ],
   "source": [
    "lemmatize_text((clf_df.review[2]))"
   ]
  },
  {
   "cell_type": "markdown",
   "id": "106720f1",
   "metadata": {},
   "source": [
    "# Stop Words"
   ]
  },
  {
   "cell_type": "code",
   "execution_count": 56,
   "id": "7a3c6f88",
   "metadata": {},
   "outputs": [],
   "source": [
    "from nltk.corpus import stopwords\n",
    "\n",
    "stop = stopwords.words('english')"
   ]
  },
  {
   "cell_type": "code",
   "execution_count": 58,
   "id": "5b8cf11a",
   "metadata": {},
   "outputs": [],
   "source": [
    "tokenizer = ToktokTokenizer()\n",
    "stopword_list = nltk.corpus.stopwords.words('english')\n",
    "stopword_list.remove('no')\n",
    "stopword_list.remove('not')"
   ]
  },
  {
   "cell_type": "code",
   "execution_count": 68,
   "id": "3a1bbee3",
   "metadata": {},
   "outputs": [],
   "source": [
    "def remove_stopwords(text, is_lower_case=False):\n",
    "    tokens = tokenizer.tokenize(text)\n",
    "    tokens = [token.strip() for token in tokens]\n",
    "    if is_lower_case:\n",
    "        filtered_tokens = [token for token in tokens if token not in stopword_list]\n",
    "    else:\n",
    "        filtered_tokens = [token for token in tokens if token.lower() not in stopword_list]\n",
    "    filtered_text = ' '.join(filtered_tokens)    \n",
    "    return filtered_text"
   ]
  },
  {
   "cell_type": "code",
   "execution_count": 70,
   "id": "c0b7d0ef",
   "metadata": {},
   "outputs": [
    {
     "data": {
      "text/plain": [
       "'My son halfway fourth week Intuniv We became concerned began last week started taking highest dose For two days could hardly get bed cranky slept nearly hours drive home school vacation unusual I called doctor Monday morning said stick days See school getting morning The last two days problem free He MUCH agreeable ever He less emotional good thing less cranky He remembering things Overall behavior better We tried many different medications far effective'"
      ]
     },
     "execution_count": 70,
     "metadata": {},
     "output_type": "execute_result"
    }
   ],
   "source": [
    "remove_stopwords((clf_df.review[1]))"
   ]
  },
  {
   "cell_type": "markdown",
   "id": "338f16ea",
   "metadata": {},
   "source": [
    "# apply lemma and stop words"
   ]
  },
  {
   "cell_type": "code",
   "execution_count": 83,
   "id": "8500d789",
   "metadata": {
    "scrolled": true
   },
   "outputs": [
    {
     "name": "stderr",
     "output_type": "stream",
     "text": [
      "C:\\Users\\user\\AppData\\Local\\Temp\\ipykernel_3904\\22338487.py:1: SettingWithCopyWarning: \n",
      "A value is trying to be set on a copy of a slice from a DataFrame.\n",
      "Try using .loc[row_indexer,col_indexer] = value instead\n",
      "\n",
      "See the caveats in the documentation: https://pandas.pydata.org/pandas-docs/stable/user_guide/indexing.html#returning-a-view-versus-a-copy\n",
      "  clf_df['l_review']=clf_df.review.apply(lemmatize_text)\n"
     ]
    }
   ],
   "source": [
    "clf_df['l_review']=clf_df.review.apply(lemmatize_text)"
   ]
  },
  {
   "cell_type": "code",
   "execution_count": 86,
   "id": "ab3153ed",
   "metadata": {},
   "outputs": [
    {
     "name": "stderr",
     "output_type": "stream",
     "text": [
      "C:\\Users\\user\\AppData\\Local\\Temp\\ipykernel_3904\\22088370.py:1: SettingWithCopyWarning: \n",
      "A value is trying to be set on a copy of a slice from a DataFrame.\n",
      "Try using .loc[row_indexer,col_indexer] = value instead\n",
      "\n",
      "See the caveats in the documentation: https://pandas.pydata.org/pandas-docs/stable/user_guide/indexing.html#returning-a-view-versus-a-copy\n",
      "  clf_df['final_review']=clf_df['l_review'].apply(remove_stopwords)\n"
     ]
    }
   ],
   "source": [
    "clf_df['final_review']=clf_df['l_review'].apply(remove_stopwords)"
   ]
  },
  {
   "cell_type": "code",
   "execution_count": 87,
   "id": "523b2b4b",
   "metadata": {},
   "outputs": [
    {
     "data": {
      "text/html": [
       "<div>\n",
       "<style scoped>\n",
       "    .dataframe tbody tr th:only-of-type {\n",
       "        vertical-align: middle;\n",
       "    }\n",
       "\n",
       "    .dataframe tbody tr th {\n",
       "        vertical-align: top;\n",
       "    }\n",
       "\n",
       "    .dataframe thead th {\n",
       "        text-align: right;\n",
       "    }\n",
       "</style>\n",
       "<table border=\"1\" class=\"dataframe\">\n",
       "  <thead>\n",
       "    <tr style=\"text-align: right;\">\n",
       "      <th></th>\n",
       "      <th>condition</th>\n",
       "      <th>review</th>\n",
       "      <th>l_review</th>\n",
       "      <th>final_review</th>\n",
       "    </tr>\n",
       "  </thead>\n",
       "  <tbody>\n",
       "    <tr>\n",
       "      <th>0</th>\n",
       "      <td>Left Ventricular Dysfunction</td>\n",
       "      <td>It has no side effect I take it in combination...</td>\n",
       "      <td>It ha no side effect I take it in combination ...</td>\n",
       "      <td>It ha no side effect I take combination Bystol...</td>\n",
       "    </tr>\n",
       "    <tr>\n",
       "      <th>1</th>\n",
       "      <td>ADHD</td>\n",
       "      <td>My son is halfway through his fourth week of I...</td>\n",
       "      <td>My son is halfway through his fourth week of I...</td>\n",
       "      <td>My son halfway fourth week Intuniv We became c...</td>\n",
       "    </tr>\n",
       "    <tr>\n",
       "      <th>2</th>\n",
       "      <td>Birth Control</td>\n",
       "      <td>I used to take another oral contraceptive whic...</td>\n",
       "      <td>I used to take another oral contraceptive whic...</td>\n",
       "      <td>I used take another oral contraceptive pill cy...</td>\n",
       "    </tr>\n",
       "    <tr>\n",
       "      <th>3</th>\n",
       "      <td>Birth Control</td>\n",
       "      <td>This is my first time using any form of birth ...</td>\n",
       "      <td>This is my first time using any form of birth ...</td>\n",
       "      <td>This first time using form birth control Im gl...</td>\n",
       "    </tr>\n",
       "    <tr>\n",
       "      <th>4</th>\n",
       "      <td>Opiate Dependence</td>\n",
       "      <td>Suboxone has completely turned my life around ...</td>\n",
       "      <td>Suboxone ha completely turned my life around I...</td>\n",
       "      <td>Suboxone ha completely turned life around I fe...</td>\n",
       "    </tr>\n",
       "  </tbody>\n",
       "</table>\n",
       "</div>"
      ],
      "text/plain": [
       "                      condition  \\\n",
       "0  Left Ventricular Dysfunction   \n",
       "1                          ADHD   \n",
       "2                 Birth Control   \n",
       "3                 Birth Control   \n",
       "4             Opiate Dependence   \n",
       "\n",
       "                                              review  \\\n",
       "0  It has no side effect I take it in combination...   \n",
       "1  My son is halfway through his fourth week of I...   \n",
       "2  I used to take another oral contraceptive whic...   \n",
       "3  This is my first time using any form of birth ...   \n",
       "4  Suboxone has completely turned my life around ...   \n",
       "\n",
       "                                            l_review  \\\n",
       "0  It ha no side effect I take it in combination ...   \n",
       "1  My son is halfway through his fourth week of I...   \n",
       "2  I used to take another oral contraceptive whic...   \n",
       "3  This is my first time using any form of birth ...   \n",
       "4  Suboxone ha completely turned my life around I...   \n",
       "\n",
       "                                        final_review  \n",
       "0  It ha no side effect I take combination Bystol...  \n",
       "1  My son halfway fourth week Intuniv We became c...  \n",
       "2  I used take another oral contraceptive pill cy...  \n",
       "3  This first time using form birth control Im gl...  \n",
       "4  Suboxone ha completely turned life around I fe...  "
      ]
     },
     "execution_count": 87,
     "metadata": {},
     "output_type": "execute_result"
    }
   ],
   "source": [
    "clf_df.head()"
   ]
  },
  {
   "cell_type": "markdown",
   "id": "a6fac7ea",
   "metadata": {},
   "source": [
    "# Prepare for model building"
   ]
  },
  {
   "cell_type": "code",
   "execution_count": 90,
   "id": "44b40559",
   "metadata": {},
   "outputs": [
    {
     "data": {
      "text/plain": [
       "Birth Control                                                          28788\n",
       "Depression                                                              9069\n",
       "Pain                                                                    6145\n",
       "Anxiety                                                                 5904\n",
       "Acne                                                                    5588\n",
       "Bipolar Disorde                                                         4224\n",
       "Insomnia                                                                3673\n",
       "Weight Loss                                                             3609\n",
       "Obesity                                                                 3568\n",
       "ADHD                                                                    3383\n",
       "Diabetes, Type 2                                                        2554\n",
       "Emergency Contraception                                                 2463\n",
       "High Blood Pressure                                                     2321\n",
       "Vaginal Yeast Infection                                                 2274\n",
       "Abnormal Uterine Bleeding                                               2096\n",
       "Bowel Preparation                                                       1859\n",
       "ibromyalgia                                                             1791\n",
       "Smoking Cessation                                                       1780\n",
       "Migraine                                                                1694\n",
       "Anxiety and Stress                                                      1663\n",
       "Major Depressive Disorde                                                1607\n",
       "Constipation                                                            1595\n",
       "Panic Disorde                                                           1463\n",
       "Chronic Pain                                                            1455\n",
       "Migraine Prevention                                                     1413\n",
       "Urinary Tract Infection                                                 1316\n",
       "Muscle Spasm                                                            1244\n",
       "Osteoarthritis                                                          1239\n",
       "Generalized Anxiety Disorde                                             1164\n",
       "Erectile Dysfunction                                                    1086\n",
       "Opiate Dependence                                                       1079\n",
       "Irritable Bowel Syndrome                                                1014\n",
       "Rheumatoid Arthritis                                                     995\n",
       "Allergic Rhinitis                                                        973\n",
       "Bacterial Infection                                                      945\n",
       "Cough                                                                    927\n",
       "Sinusitis                                                                835\n",
       "Nausea/Vomiting                                                          747\n",
       "GERD                                                                     722\n",
       "Multiple Sclerosis                                                       698\n",
       "Overactive Bladde                                                        683\n",
       "Hyperhidrosis                                                            677\n",
       "Hepatitis C                                                              656\n",
       "Back Pain                                                                616\n",
       "HIV Infection                                                            615\n",
       "High Cholesterol                                                         611\n",
       "Psoriasis                                                                598\n",
       "Schizophrenia                                                            594\n",
       "Constipation, Chronic                                                    591\n",
       "Obsessive Compulsive Disorde                                             579\n",
       "Restless Legs Syndrome                                                   565\n",
       "Benign Prostatic Hyperplasia                                             561\n",
       "Endometriosis                                                            558\n",
       "Bronchitis                                                               550\n",
       "Bacterial Vaginitis                                                      524\n",
       "Rosacea                                                                  519\n",
       "Seizures                                                                 508\n",
       "Narcolepsy                                                               506\n",
       "Hypogonadism, Male                                                       502\n",
       "Asthma, Maintenance                                                      501\n",
       "Headache                                                                 473\n",
       "Underactive Thyroid                                                      449\n",
       "Not Listed / Othe                                                        439\n",
       "Schizoaffective Disorde                                                  396\n",
       "Onychomycosis, Toenail                                                   396\n",
       "Bladder Infection                                                        395\n",
       "Social Anxiety Disorde                                                   389\n",
       "Alcohol Dependence                                                       388\n",
       "Herpes Simplex                                                           386\n",
       "Osteoporosis                                                             372\n",
       "Cold Sores                                                               367\n",
       "Epilepsy                                                                 358\n",
       "Cough and Nasal Congestion                                               356\n",
       "Menstrual Disorders                                                      350\n",
       "Influenza                                                                350\n",
       "Plaque Psoriasis                                                         332\n",
       "Opiate Withdrawal                                                        327\n",
       "Psoriatic Arthritis                                                      324\n",
       "Post Traumatic Stress Disorde                                            314\n",
       "Postmenopausal Symptoms                                                  313\n",
       "Polycystic Ovary Syndrome                                                309\n",
       "Inflammatory Conditions                                                  303\n",
       "Premenstrual Dysphoric Disorde                                           298\n",
       "Nasal Congestion                                                         290\n",
       "Pneumonia                                                                276\n",
       "Chlamydia Infection                                                      273\n",
       "Atrial Fibrillation                                                      272\n",
       "Breast Cance                                                             272\n",
       "Urticaria                                                                264\n",
       "Helicobacter Pylori Infection                                            260\n",
       "Hot Flashes                                                              255\n",
       "Neuropathic Pain                                                         253\n",
       "Anesthesia                                                               252\n",
       "COPD, Maintenance                                                        250\n",
       "Ulcerative Colitis                                                       238\n",
       "Constipation, Drug Induced                                               228\n",
       "Skin or Soft Tissue Infection                                            225\n",
       "Asthma                                                                   225\n",
       "Alcohol Withdrawal                                                       217\n",
       "Ankylosing Spondylitis                                                   209\n",
       "Motion Sickness                                                          203\n",
       "Gout, Acute                                                              196\n",
       "Crohn's Disease, Maintenance                                             192\n",
       "mance Anxiety                                                            187\n",
       "Seizure Prevention                                                       183\n",
       "Atrophic Vaginitis                                                       182\n",
       "Allergies                                                                179\n",
       "Interstitial Cystitis                                                    178\n",
       "Peripheral Neuropathy                                                    176\n",
       "Diabetic Peripheral Neuropathy                                           175\n",
       "Hashimoto's disease                                                      173\n",
       "Upper Respiratory Tract Infection                                        171\n",
       "Crohn's Disease                                                          168\n",
       "Urinary Incontinence                                                     168\n",
       "Herpes Simplex, Suppression                                              166\n",
       "Cluster Headaches                                                        166\n",
       "Eczema                                                                   166\n",
       "Sedation                                                                 165\n",
       "Atopic Dermatitis                                                        162\n",
       "Trigeminal Neuralgia                                                     162\n",
       "Prevention of Thromboembolism in Atrial Fibrillation                     160\n",
       "COPD                                                                     159\n",
       "Ovarian Cysts                                                            152\n",
       "Otitis Media                                                             152\n",
       "Hypothyroidism, After Thyroid Removal                                    151\n",
       "Borderline Personality Disorde                                           151\n",
       "Dry Eye Disease                                                          147\n",
       "Bacterial Skin Infection                                                 146\n",
       "Diverticulitis                                                           142\n",
       "Diabetes, Type 1                                                         140\n",
       "Period Pain                                                              139\n",
       "Asthma, acute                                                            135\n",
       "Ulcerative Colitis, Active                                               132\n",
       "Sciatica                                                                 124\n",
       "Prostate Cance                                                           123\n",
       "Nausea/Vomiting of Pregnancy                                             123\n",
       "Parkinson's Disease                                                      120\n",
       "Kidney Infections                                                        117\n",
       "Cold Symptoms                                                            116\n",
       "Diarrhea                                                                 110\n",
       "Strep Throat                                                             109\n",
       "Tonsillitis/Pharyngitis                                                  106\n",
       "Keratosis                                                                106\n",
       "Gout                                                                     105\n",
       "0</span> users found this comment helpful.                               104\n",
       "Breast Cancer, Metastatic                                                102\n",
       "Dietary Supplementation                                                  102\n",
       "Human Papilloma Virus                                                    102\n",
       "Vertig                                                                   101\n",
       "Urinary Tract Stones                                                     101\n",
       "Arrhythmia                                                                97\n",
       "Renal Cell Carcinoma                                                      95\n",
       "Systemic Lupus Erythematosus                                              95\n",
       "Non-Small Cell Lung Cance                                                 94\n",
       "Neuralgia                                                                 94\n",
       "Angina                                                                    93\n",
       "Edema                                                                     93\n",
       "Dermatitis                                                                93\n",
       "Amenorrhea                                                                92\n",
       "Prostatitis                                                               91\n",
       "Autism                                                                    90\n",
       "Dental Abscess                                                            90\n",
       "Chronic Myelogenous Leukemia                                              89\n",
       "Alopecia                                                                  89\n",
       "Benign Essential Trem                                                     89\n",
       "Hemorrhoids                                                               88\n",
       "Heart Failure                                                             88\n",
       "Chronic Fatigue Syndrome                                                  88\n",
       "Muscle Pain                                                               88\n",
       "Supraventricular Tachycardia                                              86\n",
       "Sinus Symptoms                                                            86\n",
       "Deep Vein Thrombosis                                                      86\n",
       "2</span> users found this comment helpful.                                85\n",
       "Allergic Reactions                                                        85\n",
       "Alzheimer's Disease                                                       85\n",
       "Rhinitis                                                                  84\n",
       "3</span> users found this comment helpful.                                84\n",
       "Postpartum Depression                                                     84\n",
       "1</span> users found this comment helpful.                                83\n",
       "Obstructive Sleep Apnea/Hypopnea Syndrome                                 80\n",
       "Anorexia                                                                  80\n",
       "Menorrhagia                                                               80\n",
       "moterol)                                                                  79\n",
       "Nausea/Vomiting, Chemotherapy Induced                                     79\n",
       "Dry Skin                                                                  78\n",
       "Premature Lab                                                             76\n",
       "Vitamin/Mineral Supplementation during Pregnancy/Lactation                74\n",
       "Barrett's Esophagus                                                       74\n",
       "Hirsutism                                                                 74\n",
       "Dysuria                                                                   73\n",
       "Psychosis                                                                 73\n",
       "Conjunctivitis, Allergic                                                  73\n",
       "Hypertriglyceridemia                                                      73\n",
       "Melasma                                                                   72\n",
       "Stomach Ulce                                                              72\n",
       "Binge Eating Disorde                                                      72\n",
       "Postherpetic Neuralgia                                                    71\n",
       "Trichomoniasis                                                            70\n",
       "Erosive Esophagitis                                                       70\n",
       "Hypersomnia                                                               70\n",
       "Sexual Dysfunction, SSRI Induced                                          69\n",
       "Pulmonary Embolism                                                        68\n",
       "Tourette's Syndrome                                                       68\n",
       "Seasonal Allergic Conjunctivitis                                          68\n",
       "Prevention of Bladder infection                                           68\n",
       "Head Lice                                                                 67\n",
       "4</span> users found this comment helpful.                                66\n",
       "emale Infertility                                                         65\n",
       "Pulmonary Hypertension                                                    64\n",
       "Conjunctivitis, Bacterial                                                 62\n",
       "High Cholesterol, Familial Heterozygous                                   62\n",
       "Pseudotumor Cerebri                                                       62\n",
       "Chronic Idiopathic Constipation                                           60\n",
       "Shift Work Sleep Disorde                                                  60\n",
       "Light Sedation                                                            60\n",
       "Eye Redness                                                               59\n",
       "Bulimia                                                                   58\n",
       "Glaucoma, Open Angle                                                      57\n",
       "Cervical Dystonia                                                         56\n",
       "Reflex Sympathetic Dystrophy Syndrome                                     55\n",
       "Heart Attack                                                              55\n",
       "Acute Coronary Syndrome                                                   54\n",
       "Hyperprolactinemia                                                        54\n",
       "Keratoconjunctivitis Sicca                                                54\n",
       "Basal Cell Carcinoma                                                      54\n",
       "Organ Transplant, Rejection Prophylaxis                                   53\n",
       "atigue                                                                    53\n",
       "Skin and Structure Infection                                              53\n",
       "Mania                                                                     53\n",
       "Perimenopausal Symptoms                                                   50\n",
       "Sjogren's Syndrome                                                        50\n",
       "Raynaud's Syndrome                                                        50\n",
       "Uterine Fibroids                                                          49\n",
       "Indigestion                                                               48\n",
       "Androgenetic Alopecia                                                     48\n",
       "Burns, External                                                           47\n",
       "Diarrhea, Chronic                                                         47\n",
       "Crohn's Disease, Acute                                                    47\n",
       "6</span> users found this comment helpful.                                46\n",
       "Ulcerative Colitis, Maintenance                                           45\n",
       "Malaria Prevention                                                        45\n",
       "min)                                                                      45\n",
       "Opioid-Induced Constipation                                               44\n",
       "Pruritus                                                                  44\n",
       "Neutropenia Associated with Chemotherapy                                  43\n",
       "Tendonitis                                                                43\n",
       "Periodic Limb Movement Disorde                                            43\n",
       "5</span> users found this comment helpful.                                40\n",
       "Myasthenia Gravis                                                         40\n",
       "Agitated State                                                            38\n",
       "Paranoid Disorde                                                          38\n",
       "Postoperative Pain                                                        38\n",
       "Gastroenteritis                                                           38\n",
       "Dermatological Disorders                                                  38\n",
       "Gastroparesis                                                             37\n",
       "Clostridial Infection                                                     37\n",
       "7</span> users found this comment helpful.                                37\n",
       "Colorectal Cance                                                          37\n",
       "Vulvodynia                                                                35\n",
       "Lyme Disease                                                              35\n",
       "Constipation, Acute                                                       35\n",
       "Primary Immunodeficiency Syndrome                                         35\n",
       "Gouty Arthritis                                                           34\n",
       "Iron Deficiency Anemia                                                    34\n",
       "Eye Redness/Itching                                                       34\n",
       "Glaucoma                                                                  34\n",
       "Oophorectomy                                                              34\n",
       "Tinnitus                                                                  34\n",
       "ge (amlodipine / valsartan)                                               33\n",
       "Breakthrough Pain                                                         33\n",
       "Human Papillomavirus Prophylaxis                                          33\n",
       "acial Wrinkles                                                            32\n",
       "8</span> users found this comment helpful.                                31\n",
       "Condylomata Acuminata                                                     31\n",
       "COPD, Acute                                                               30\n",
       "Influenza Prophylaxis                                                     30\n",
       "Temporomandibular Joint Disorde                                           30\n",
       "Oral Thrush                                                               30\n",
       "Seborrheic Dermatitis                                                     30\n",
       "Ventricular Tachycardia                                                   30\n",
       "9</span> users found this comment helpful.                                30\n",
       "Duodenal Ulce                                                             29\n",
       "Mitral Valve Prolapse                                                     29\n",
       "Actinic Keratosis                                                         29\n",
       "moterol / mometasone)                                                     29\n",
       "10</span> users found this comment helpful.                               28\n",
       "Light Anesthesia                                                          28\n",
       "Herbal Supplementation                                                    28\n",
       "Cyclic Vomiting Syndrome                                                  28\n",
       "Dysautonomia                                                              28\n",
       "Insomnia, Stimulant-Associated                                            27\n",
       "Hiccups                                                                   27\n",
       "Photoaging of the Skin                                                    27\n",
       "Chronic Lymphocytic Leukemia                                              26\n",
       "Otitis Externa                                                            26\n",
       "Night Terrors                                                             26\n",
       "min / sitagliptin)                                                        26\n",
       "Postural Orthostatic Tachycardia Syndrome                                 26\n",
       "Juvenile Rheumatoid Arthritis                                             26\n",
       "Tinea Corporis                                                            25\n",
       "Nocturnal Leg Cramps                                                      25\n",
       "Precocious Puberty                                                        25\n",
       "Herpes Zoste                                                              25\n",
       "Extrapyramidal Reaction                                                   25\n",
       "Pharyngitis                                                               24\n",
       "Inflammatory Bowel Disease                                                24\n",
       "Postoperative Ocular Inflammation                                         24\n",
       "Labor Pain                                                                24\n",
       "Pneumococcal Disease Prophylaxis                                          24\n",
       "Vitamin/Mineral Supplementation and Deficiency                            23\n",
       "Atrophic Urethritis                                                       23\n",
       "Skin Cance                                                                22\n",
       "Bone infection                                                            22\n",
       "Allergic Urticaria                                                        22\n",
       "Ischemic Stroke, Prophylaxis                                              22\n",
       "Chronic Spasticity                                                        22\n",
       "Tinea Versicol                                                            22\n",
       "Swine Flu                                                                 21\n",
       "Hypoestrogenism                                                           21\n",
       "Insulin Resistance Syndrome                                               21\n",
       "Atrial Flutte                                                             21\n",
       "Melanoma, Metastatic                                                      21\n",
       "13</span> users found this comment helpful.                               21\n",
       "Tinea Pedis                                                               21\n",
       "Hyperphosphatemia of Renal Failure                                        21\n",
       "Lennox-Gastaut Syndrome                                                   20\n",
       "Non-Hodgkin's Lymphoma                                                    20\n",
       "Angina Pectoris Prophylaxis                                               20\n",
       "Prevention of Osteoporosis                                                20\n",
       "Meniere's Disease                                                         20\n",
       "Vitamin D Deficiency                                                      19\n",
       "Gas                                                                       19\n",
       "Diabetic Kidney Disease                                                   19\n",
       "Left Ventricular Dysfunction                                              19\n",
       "Xerostomia                                                                19\n",
       "Burning Mouth Syndrome                                                    19\n",
       "Methicillin-Resistant Staphylococcus Aureus Infection                     19\n",
       "Breast Cancer, Adjuvant                                                   19\n",
       "Malaria                                                                   19\n",
       "Diaper Rash                                                               18\n",
       "Pseudobulbar Affect                                                       18\n",
       "Lactose Intolerance                                                       18\n",
       "Progesterone Insufficiency                                                18\n",
       "Nightmares                                                                18\n",
       "Anemia                                                                    18\n",
       "Nausea/Vomiting, Postoperative                                            18\n",
       "Uveitis                                                                   18\n",
       "12</span> users found this comment helpful.                               18\n",
       "Ovarian Cance                                                             17\n",
       "Onychomycosis, Fingernail                                                 17\n",
       "Hereditary Angioedema                                                     17\n",
       "Myelodysplastic Syndrome                                                  17\n",
       "Benzodiazepine Withdrawal                                                 17\n",
       "Multiple Myeloma                                                          17\n",
       "15</span> users found this comment helpful.                               17\n",
       "Macular Degeneration                                                      17\n",
       "Juvenile Idiopathic Arthritis                                             17\n",
       "Ovulation Induction                                                       16\n",
       "Soft Tissue Sarcoma                                                       16\n",
       "Undifferentiated Connective Tissue Disease                                16\n",
       "Chronic Pancreatitis                                                      16\n",
       "Seasonal Affective Disorde                                                16\n",
       "Primary Ovarian Failure                                                   15\n",
       "Giardiasis                                                                15\n",
       "Pancreatic Cance                                                          15\n",
       "Diagnosis and Investigation                                               15\n",
       "Lyme Disease, Neurologic                                                  15\n",
       "High Cholesterol, Familial Homozygous                                     14\n",
       "Diabetes Insipidus                                                        14\n",
       "Tinea Cruris                                                              14\n",
       "Expectoration                                                             14\n",
       "Hyperlipoproteinemia                                                      14\n",
       "Streptococcal Infection                                                   14\n",
       "17</span> users found this comment helpful.                               14\n",
       "Behcet's Disease                                                          14\n",
       "16</span> users found this comment helpful.                               14\n",
       "Trichotillomania                                                          14\n",
       "14</span> users found this comment helpful.                               14\n",
       "zen Shoulde                                                               14\n",
       "Deep Vein Thrombosis, Prophylaxis                                         14\n",
       "Computed Tomography                                                       13\n",
       "New Daily Persistent Headache                                             13\n",
       "Hypertensive Emergency                                                    13\n",
       "Pain/Feve                                                                 13\n",
       "Ischemic Stroke                                                           13\n",
       "Dyspareunia                                                               13\n",
       "20</span> users found this comment helpful.                               13\n",
       "Hepatitis B                                                               13\n",
       "Lichen Sclerosus                                                          13\n",
       "Bronchiectasis                                                            13\n",
       "Surgical Prophylaxis                                                      13\n",
       "Premenstrual Syndrome                                                     12\n",
       "Cutaneous Candidiasis                                                     12\n",
       "Anal Fissure and Fistula                                                  12\n",
       "eve                                                                       12\n",
       "Intermittent Claudication                                                 12\n",
       "Hyperlipoproteinemia Type IIa, Elevated LDL                               12\n",
       "Hyperthyroidism                                                           12\n",
       "Secondary Hyperparathyroidism                                             12\n",
       "Persistent Depressive Disorde                                             12\n",
       "Intraocular Hypertension                                                  12\n",
       "Autoimmune Hepatitis                                                      12\n",
       "Asperger Syndrome                                                         12\n",
       "Conjunctivitis                                                            12\n",
       "Cystic Fibrosis                                                           12\n",
       "Skin Rash                                                                 12\n",
       "mulation) (phenylephrine)                                                 12\n",
       "Osteolytic Bone Metastases of Solid Tumors                                12\n",
       "Post-Cholecystectomy Diarrhea                                             12\n",
       "Nasal Polyps                                                              12\n",
       "18</span> users found this comment helpful.                               11\n",
       "Vitamin B12 Deficiency                                                    11\n",
       "19</span> users found this comment helpful.                               11\n",
       "Lichen Planus                                                             11\n",
       "Dystonia                                                                  11\n",
       "Polycythemia Vera                                                         11\n",
       "Opiate Adjunct                                                            11\n",
       "Prevention of Cardiovascular Disease                                      11\n",
       "Traveler's Diarrhea                                                       11\n",
       "Diarrhea, Acute                                                           11\n",
       "Scabies                                                                   11\n",
       "Addison's Disease                                                         11\n",
       "Bursitis                                                                  11\n",
       "Impetig                                                                   10\n",
       "Ulcerative Proctitis                                                      10\n",
       "Thyroid Cance                                                             10\n",
       "Tuberculosis, Latent                                                      10\n",
       "Herpes Simplex, Mucocutaneous/Immunocompetent Host                        10\n",
       "Prevention of Hypokalemia                                                 10\n",
       "min / saxagliptin)                                                        10\n",
       "Chronic Myofascial Pain                                                   10\n",
       "11</span> users found this comment helpful.                               10\n",
       "Adult Human Growth Hormone Deficiency                                     10\n",
       "Opioid Overdose                                                           10\n",
       "Pulmonary Embolism, Recurrent Event                                        9\n",
       "Deep Vein Thrombosis, First Event                                          9\n",
       "Sore Throat                                                                9\n",
       "Deep Vein Thrombosis, Recurrent Event                                      9\n",
       "Dermatomyositis                                                            9\n",
       "Prevention of Dental Caries                                                9\n",
       "Intraabdominal Infection                                                   9\n",
       "21</span> users found this comment helpful.                                9\n",
       "Body Dysmorphic Disorde                                                    9\n",
       "Costochondritis                                                            9\n",
       "Hypoparathyroidism                                                         9\n",
       "23</span> users found this comment helpful.                                9\n",
       "Pelvic Inflammatory Disease                                                9\n",
       "Local Anesthesia                                                           9\n",
       "Perioral Dermatitis                                                        9\n",
       "Spondylolisthesis                                                          9\n",
       "Menopausal Disorders                                                       9\n",
       "TSH Suppression                                                            9\n",
       "Lactation Augmentation                                                     9\n",
       "Pancreatic Exocrine Dysfunction                                            8\n",
       "Agitation                                                                  8\n",
       "B12 Nutritional Deficiency                                                 8\n",
       "Labor Induction                                                            8\n",
       "Bacterial Endocarditis Prevention                                          8\n",
       "Adrenocortical Insufficiency                                               8\n",
       "Status Epilepticus                                                         8\n",
       "Lyme Disease, Arthritis                                                    8\n",
       "Lymphoma                                                                   8\n",
       "Pediatric Growth Hormone Deficiency                                        8\n",
       "Hepatic Encephalopathy                                                     8\n",
       "Dermatologic Lesion                                                        8\n",
       "Candidemia                                                                 8\n",
       "Gastrointestinal Stromal Tum                                               8\n",
       "Nasal Carriage of Staphylococcus aureus                                    8\n",
       "Brain Tum                                                                  8\n",
       "Atherosclerosis                                                            8\n",
       "Dandruff                                                                   8\n",
       "Bronchospasm Prophylaxis                                                   8\n",
       "lic Acid Deficiency                                                        8\n",
       "Lipodystrophy                                                              7\n",
       "Immunosuppression                                                          7\n",
       "Diabetic Macular Edema                                                     7\n",
       "Head and Neck Cance                                                        7\n",
       "Bleeding Disorde                                                           7\n",
       "NSAID-Induced Gastric Ulce                                                 7\n",
       "Hypoactive Sexual Desire Disorde                                           7\n",
       "Idiopathic Thrombocytopenic Purpura                                        7\n",
       "von Willebrand's Disease                                                   7\n",
       "Ophthalmic Surgery                                                         7\n",
       "Tinea Capitis                                                              7\n",
       "Pinworm Infection (Enterobius vermicularis)                                7\n",
       "Endometrial Cance                                                          7\n",
       "Performance Anxiety                                                        7\n",
       "Abortion                                                                   7\n",
       "Wegener's Granulomatosis                                                   7\n",
       "Macular Edema                                                              7\n",
       "Mountain Sickness / Altitude Sickness                                      7\n",
       "25</span> users found this comment helpful.                                7\n",
       "Premature Ventricular Depolarizations                                      6\n",
       "Still's Disease                                                            6\n",
       "Glioblastoma Multi                                                         6\n",
       "Dietary Fiber Supplementation                                              6\n",
       "amilial Mediterranean Feve                                                 6\n",
       "Dermatophytosis                                                            6\n",
       "Hepatocellular Carcinoma                                                   6\n",
       "Herpes Zoster, Prophylaxis                                                 6\n",
       "Iritis                                                                     6\n",
       "Systemic Mastocytosis                                                      6\n",
       "Endometrial Hyperplasia                                                    6\n",
       "Cataplexy                                                                  6\n",
       "Carcinoid Tum                                                              6\n",
       "Nephrotic Syndrome                                                         6\n",
       "Gingivitis                                                                 6\n",
       "Dumping Syndrome                                                           6\n",
       "Candida Urinary Tract Infection                                            6\n",
       "Herpes Simplex, Mucocutaneous/Immunocompromised Host                       6\n",
       "NSAID-Induced Ulcer Prophylaxis                                            6\n",
       "Mucositis                                                                  6\n",
       "Anemia Associated with Chronic Renal Failure                               6\n",
       "Thrombocythemia                                                            6\n",
       "Biliary Cirrhosis                                                          6\n",
       "AIDS Related Wasting                                                       5\n",
       "Primary Hyperaldosteronism                                                 5\n",
       "Prevention of Atherothrombotic Events                                      5\n",
       "36</span> users found this comment helpful.                                5\n",
       "min / pioglitazone)                                                        5\n",
       "Gout, Prophylaxis                                                          5\n",
       "Head Injury                                                                5\n",
       "Hypercalcemia of Malignancy                                                5\n",
       "Pe                                                                         5\n",
       "Turner's Syndrome                                                          5\n",
       "Periodontitis                                                              5\n",
       "Auditory Processing Disorde                                                5\n",
       "Primary Nocturnal Enuresis                                                 5\n",
       "29</span> users found this comment helpful.                                5\n",
       "Anaplastic Oligodendroglioma                                               5\n",
       "CMV Prophylaxis                                                            5\n",
       "Varicella-Zoste                                                            5\n",
       "SIADH                                                                      5\n",
       "Mild Cognitive Impairment                                                  5\n",
       "Peripheral Arterial Disease                                                5\n",
       "Melanoma                                                                   5\n",
       "Glaucoma/Intraocular Hypertension                                          5\n",
       "Cyclothymic Disorde                                                        5\n",
       "Ventricular Fibrillation                                                   5\n",
       "Pre-Exposure Prophylaxis                                                   5\n",
       "Pulmonary Embolism, First Event                                            5\n",
       "33</span> users found this comment helpful.                                5\n",
       "Gonococcal Infection, Uncomplicated                                        5\n",
       "Glioblastoma Multiforme                                                    5\n",
       "Pupillary Dilation                                                         5\n",
       "Cance                                                                      5\n",
       "Endometrial Hyperplasia, Prophylaxis                                       5\n",
       "Sarcoidosis                                                                5\n",
       "Herpes Simplex Dendritic Keratitis                                         5\n",
       "Reiter's Syndrome                                                          5\n",
       "Cardiovascular Risk Reduction                                              5\n",
       "Spondyloarthritis                                                          5\n",
       "Transient Ischemic Attack                                                  5\n",
       "27</span> users found this comment helpful.                                5\n",
       "Leukemia                                                                   5\n",
       "mis                                                                        5\n",
       "Peptic Ulce                                                                5\n",
       "Hypokalemia                                                                5\n",
       "Ear Wax Impaction                                                          5\n",
       "41</span> users found this comment helpful.                                5\n",
       "Dementia                                                                   4\n",
       "Hypoglycemia                                                               4\n",
       "Topical Disinfection                                                       4\n",
       "43</span> users found this comment helpful.                                4\n",
       "Peripheral T-cell Lymphoma                                                 4\n",
       "Paroxysmal Supraventricular Tachycardia                                    4\n",
       "Breast Cancer, Prevention                                                  4\n",
       "Acute Lymphoblastic Leukemia                                               4\n",
       "Nephrocalcinosis                                                           4\n",
       "44</span> users found this comment helpful.                                4\n",
       "Anemia, Sickle Cell                                                        4\n",
       "Granuloma Annulare                                                         4\n",
       "Bullous Pemphigoid                                                         4\n",
       "Nausea/Vomiting, Radiation Induced                                         4\n",
       "Nonoccupational Exposure                                                   4\n",
       "Mycobacterium avium-intracellulare, Treatment                              4\n",
       "ge HCT (amlodipine / hydrochlorothiazide / valsartan)                      4\n",
       "24</span> users found this comment helpful.                                4\n",
       "Prosthetic Heart Valves, Mechanical Valves - Thrombosis Prophylaxis        4\n",
       "Infection Prophylaxis                                                      4\n",
       "Pudendal Neuralgia                                                         4\n",
       "Osteolytic Bone Lesions of Multiple Myeloma                                4\n",
       "Anesthetic Adjunct                                                         4\n",
       "Gastric Ulcer Maintenance Treatment                                        4\n",
       "cal Segmental Glomerulosclerosis                                           4\n",
       "Deep Neck Infection                                                        4\n",
       "Reversal of Opioid Sedation                                                4\n",
       "ICU Agitation                                                              4\n",
       "Ascariasis                                                                 4\n",
       "Oral and Dental Conditions                                                 4\n",
       "Porphyria                                                                  4\n",
       "Alpha-1 Proteinase Inhibitor Deficiency                                    4\n",
       "STD Prophylaxis                                                            4\n",
       "Eosinophilic Esophagitis                                                   4\n",
       "Enterocolitis                                                              4\n",
       "Noninfectious Colitis                                                      4\n",
       "Lymphocytic Colitis                                                        4\n",
       "Gastritis/Duodenitis                                                       4\n",
       "CNS Magnetic Resonance Imaging                                             4\n",
       "Hypocalcemia                                                               4\n",
       "32</span> users found this comment helpful.                                4\n",
       "Lewy Body Dementia                                                         3\n",
       "Severe Mood Dysregulation                                                  3\n",
       "Acute Promyelocytic Leukemia                                               3\n",
       "Varicose Veins                                                             3\n",
       "Cutaneous T-cell Lymphoma                                                  3\n",
       "actor IX Deficiency                                                        3\n",
       "Amebiasis                                                                  3\n",
       "Pseudomembranous Colitis                                                   3\n",
       "Aphthous Ulce                                                              3\n",
       "Hyperkalemia                                                               3\n",
       "Cerebral Spasticity                                                        3\n",
       "28</span> users found this comment helpful.                                3\n",
       "Gender Dysphoria                                                           3\n",
       "Pemphigus                                                                  3\n",
       "Endoscopy or Radiology Premedication                                       3\n",
       "Warts                                                                      3\n",
       "Hidradenitis Suppurativa                                                   3\n",
       "Squamous Cell Carcinoma                                                    3\n",
       "Histoplasmosis                                                             3\n",
       "Esophageal Variceal Hemorrhage Prophylaxis                                 3\n",
       "Rejection Prophylaxis                                                      3\n",
       "Anorexia/Feeding Problems                                                  3\n",
       "Thromboembolic Stroke Prophylaxis                                          3\n",
       "31</span> users found this comment helpful.                                3\n",
       "Peritonitis                                                                3\n",
       "Ocular Rosacea                                                             3\n",
       "Antiphospholipid Syndrome                                                  3\n",
       "Chronic Inflammatory Demyelinating Polyradiculoneuropathy                  3\n",
       "Women (oxybutynin)                                                         3\n",
       "Sunburn                                                                    3\n",
       "Stress Ulcer Prophylaxis                                                   3\n",
       "Anal Itching                                                               3\n",
       "Meningitis                                                                 3\n",
       "Ectopic Pregnancy                                                          3\n",
       "Dupuytren's contracture                                                    3\n",
       "Hyperekplexia                                                              3\n",
       "Anaplastic Astrocytoma                                                     3\n",
       "Wolff-Parkinson-White Syndrome                                             3\n",
       "Tuberculosis, Prophylaxis                                                  3\n",
       "Oligospermia                                                               3\n",
       "Neurosurgery                                                               3\n",
       "amilial Cold Autoinflammatory Syndrome                                     3\n",
       "Uterine Bleeding                                                           3\n",
       "Dientamoeba fragilis                                                       3\n",
       "Rhinorrhea                                                                 3\n",
       "Esophageal Candidiasis                                                     3\n",
       "ailure to Thrive                                                           3\n",
       "Small Bowel Bacterial Overgrowth                                           3\n",
       "Small Fiber Neuropathy                                                     3\n",
       "Autoimmune Hemolytic Anemia                                                3\n",
       "Hemophilia A                                                               3\n",
       "Aspiration Pneumonia                                                       3\n",
       "39</span> users found this comment helpful.                                3\n",
       "Anemia, Chemotherapy Induced                                               3\n",
       "Thrombocytopenia                                                           2\n",
       "99</span> users found this comment helpful.                                2\n",
       "Gonococcal Infection, Disseminated                                         2\n",
       "74</span> users found this comment helpful.                                2\n",
       "t Care                                                                     2\n",
       "Neck Pain                                                                  2\n",
       "Systemic Sclerosis                                                         2\n",
       "Testicular Cance                                                           2\n",
       "Nocardiosis                                                                2\n",
       "Hyperparathyroidism Secondary to Renal Impairment                          2\n",
       "22</span> users found this comment helpful.                                2\n",
       "Cutaneous Larva Migrans                                                    2\n",
       "Blepharitis                                                                2\n",
       "Leukocytoclastic Vasculitis                                                2\n",
       "Coronary Artery Disease                                                    2\n",
       "42</span> users found this comment helpful.                                2\n",
       "Duodenal Ulcer Prophylaxis                                                 2\n",
       "Cholera                                                                    2\n",
       "Schnitzler Syndrome                                                        2\n",
       "55</span> users found this comment helpful.                                2\n",
       "Hypotension                                                                2\n",
       "Pityriasis rubra pilaris                                                   2\n",
       "Paget's Disease                                                            2\n",
       "Gastrointestinal Decontamination                                           2\n",
       "Pertussis                                                                  2\n",
       "Avian Influenza                                                            2\n",
       "Mixed Connective Tissue Disease                                            2\n",
       "Anaphylaxis                                                                2\n",
       "Campylobacter Gastroenteritis                                              2\n",
       "Hyperphosphatemia                                                          2\n",
       "Hepatic Tum                                                                2\n",
       "Aggressive Behavi                                                          2\n",
       "Body Imaging                                                               2\n",
       "Euvolemic Hyponatremia                                                     2\n",
       "Breast Cancer, Palliative                                                  2\n",
       "Anthrax                                                                    2\n",
       "Skin Disinfection, Preoperative                                            2\n",
       "Nonalcoholic Fatty Liver Disease                                           2\n",
       "Percutaneous Coronary Intervention                                         2\n",
       "Chronic Eosinophilic Leukemia                                              2\n",
       "45</span> users found this comment helpful.                                2\n",
       "Solid Tumors                                                               2\n",
       "Malignant Glioma                                                           2\n",
       "Muscle Twitching                                                           2\n",
       "Myxedema Coma                                                              2\n",
       "85</span> users found this comment helpful.                                2\n",
       "Hypomagnesemia                                                             2\n",
       "75</span> users found this comment helpful.                                2\n",
       "Intermittent Explosive Disorde                                             2\n",
       "Schistosoma japonicum                                                      2\n",
       "Salivary Gland Cance                                                       2\n",
       "Niacin Deficiency                                                          2\n",
       "t Pac with Cyclobenzaprine (cyclobenzaprine)                               2\n",
       "Abdominal Distension                                                       2\n",
       "Deep Vein Thrombosis Prophylaxis after Hip Replacement Surgery             2\n",
       "Vitamin K Deficiency                                                       2\n",
       "Hyperlipoproteinemia Type IV, Elevated VLDL                                2\n",
       "Croup                                                                      2\n",
       "Tetanus                                                                    2\n",
       "Submental Fullness                                                         2\n",
       "35</span> users found this comment helpful.                                2\n",
       "Neurosis                                                                   2\n",
       "Peyronie's Disease                                                         2\n",
       "min / rosiglitazone)                                                       2\n",
       "Tic Disorde                                                                2\n",
       "142</span> users found this comment helpful.                               2\n",
       "Renal Transplant                                                           2\n",
       "Prosthetic Heart Valves, Tissue Valves - Thrombosis Prophylaxis            2\n",
       "Eyelash Hypotrichosis                                                      2\n",
       "Liver Magnetic Resonance Imaging                                           2\n",
       "Hairy Cell Leukemia                                                        2\n",
       "46</span> users found this comment helpful.                                2\n",
       "tic (mycophenolic acid)                                                    2\n",
       "Toothache                                                                  2\n",
       "Angioedema                                                                 2\n",
       "Typhoid Feve                                                               2\n",
       "Tardive Dyskinesia                                                         2\n",
       "Deep Vein Thrombosis Prophylaxis after Knee Replacement Surgery            2\n",
       "Mononucleosis                                                              2\n",
       "Ichthyosis                                                                 2\n",
       "Gaucher Disease                                                            2\n",
       "Delayed Puberty, Male                                                      2\n",
       "Sleep Paralysis                                                            2\n",
       "Platelet Aggregation Inhibition                                            2\n",
       "Babesiosis                                                                 2\n",
       "Pathological Hypersecretory Conditions                                     2\n",
       "Urinary Retention                                                          2\n",
       "Meningococcal Meningitis Prophylaxis                                       1\n",
       "mist (                                                                     1\n",
       "Cluster-Tic Syndrome                                                       1\n",
       "Syringomyelia                                                              1\n",
       "Gestational Diabetes                                                       1\n",
       "Aspergillosis, Aspergilloma                                                1\n",
       "Pseudogout, Prophylaxis                                                    1\n",
       "Portal Hypertension                                                        1\n",
       "Reversal of Nondepolarizing Muscle Relaxants                               1\n",
       "47</span> users found this comment helpful.                                1\n",
       "Short Stature for Age                                                      1\n",
       "Neurotic Depression                                                        1\n",
       "Cerebral Edema                                                             1\n",
       "me                                                                         1\n",
       "Hyperuricemia Secondary to Chemotherapy                                    1\n",
       "Prevention of Perinatal Group B Streptococcal Disease                      1\n",
       "Small Bowel or Pancreatic Fistula                                          1\n",
       "Pemphigoid                                                                 1\n",
       "Keratitis                                                                  1\n",
       "123</span> users found this comment helpful.                               1\n",
       "Microscopic polyangiitis                                                   1\n",
       "Secondary Cutaneous Bacterial Infections                                   1\n",
       "Hodgkin's Lymphoma                                                         1\n",
       "26</span> users found this comment helpful.                                1\n",
       "Hemophilia B                                                               1\n",
       "m Pain Disorde                                                             1\n",
       "77</span> users found this comment helpful.                                1\n",
       "Systemic Candidiasis                                                       1\n",
       "Myeloproliferative Disorders                                               1\n",
       "61</span> users found this comment helpful.                                1\n",
       "Diagnostic Bronchograms                                                    1\n",
       "Neoplastic Diseases                                                        1\n",
       "51</span> users found this comment helpful.                                1\n",
       "Mycoplasma Pneumonia                                                       1\n",
       "Linear IgA Disease                                                         1\n",
       "Subarachnoid Hemorrhage                                                    1\n",
       "ungal Pneumonia                                                            1\n",
       "Upper Limb Spasticity                                                      1\n",
       "145</span> users found this comment helpful.                               1\n",
       "Scleroderma                                                                1\n",
       "Zollinger-Ellison Syndrome                                                 1\n",
       "Tinea Barbae                                                               1\n",
       "Acute Nonlymphocytic Leukemia                                              1\n",
       "62</span> users found this comment helpful.                                1\n",
       "92</span> users found this comment helpful.                                1\n",
       "95</span> users found this comment helpful.                                1\n",
       "Cyclitis                                                                   1\n",
       "76</span> users found this comment helpful.                                1\n",
       "Strabismus                                                                 1\n",
       "Ramsay Hunt Syndrome                                                       1\n",
       "Occipital Neuralgia                                                        1\n",
       "Klinefelter Syndrome                                                       1\n",
       "Patent Ductus Arteriosus                                                   1\n",
       "Joint Infection                                                            1\n",
       "Stomach Cance                                                              1\n",
       "Manscaping Pain                                                            1\n",
       "Organ Transplant, Rejection Reversal                                       1\n",
       "Coccidioidomycosis                                                         1\n",
       "Strongyloidiasis                                                           1\n",
       "Gastric Cance                                                              1\n",
       "ibrocystic Breast Disease                                                  1\n",
       "121</span> users found this comment helpful.                               1\n",
       "ungal Infection Prophylaxis                                                1\n",
       "Short Stature                                                              1\n",
       "Hypercalcemia                                                              1\n",
       "Sporotrichosis                                                             1\n",
       "146</span> users found this comment helpful.                               1\n",
       "64</span> users found this comment helpful.                                1\n",
       "34</span> users found this comment helpful.                                1\n",
       "Ehrlichiosis                                                               1\n",
       "Hypopituitarism                                                            1\n",
       "Infectious Diarrhea                                                        1\n",
       "Hemangioma                                                                 1\n",
       "Postpartum Breast Pain                                                     1\n",
       "Multiple Endocrine Adenomas                                                1\n",
       "Postoperative Increased Intraocular Pressure                               1\n",
       "Pruritus of Partial Biliary Obstruction                                    1\n",
       "Primary Hyperaldosteronism Diagnosis                                       1\n",
       "94</span> users found this comment helpful.                                1\n",
       "Radionuclide Myocardial Perfusion Study                                    1\n",
       "54</span> users found this comment helpful.                                1\n",
       "Meningitis, Meningococcal                                                  1\n",
       "Parkinsonian Trem                                                          1\n",
       "Rabies Prophylaxis                                                         1\n",
       "Sepsis                                                                     1\n",
       "Women (minoxidil)                                                          1\n",
       "Myelofibrosis                                                              1\n",
       "Wilson's Disease                                                           1\n",
       "Transverse Myelitis                                                        1\n",
       "Parkinsonism                                                               1\n",
       "48</span> users found this comment helpful.                                1\n",
       "Thyrotoxicosis                                                             1\n",
       "Dermatitis Herpetiformis                                                   1\n",
       "30</span> users found this comment helpful.                                1\n",
       "Epididymitis, Sexually Transmitted                                         1\n",
       "Cachexia                                                                   1\n",
       "63</span> users found this comment helpful.                                1\n",
       "Hypokalemic Periodic Paralysis                                             1\n",
       "Bartonellosis                                                              1\n",
       "Thyroid Suppression Test                                                   1\n",
       "Asystole                                                                   1\n",
       "Ventricular Arrhythmia                                                     1\n",
       "AV Heart Block                                                             1\n",
       "llicular Lymphoma                                                          1\n",
       "98</span> users found this comment helpful.                                1\n",
       "Cogan's Syndrome                                                           1\n",
       "Epicondylitis, Tennis Elbow                                                1\n",
       "Dercum's Disease                                                           1\n",
       "Corneal Ulce                                                               1\n",
       "acial Lipoatrophy                                                          1\n",
       "Hypodermoclysis                                                            1\n",
       "Hepatitis B Prevention                                                     1\n",
       "Tuberculosis, Active                                                       1\n",
       "Cerebrovascular Insufficiency                                              1\n",
       "Dermatitis Herpeti                                                         1\n",
       "Anti NMDA Receptor Encephalitis                                            1\n",
       "72</span> users found this comment helpful.                                1\n",
       "Gonadotropin Inhibition                                                    1\n",
       "unctional Gastric Disorde                                                  1\n",
       "Acetaminophen Overdose                                                     1\n",
       "Paragonimus westermani, Lung Fluke                                         1\n",
       "Neuritis                                                                   1\n",
       "Hyperbilirubinemia                                                         1\n",
       "Mumps Prophylaxis                                                          1\n",
       "110</span> users found this comment helpful.                               1\n",
       "40</span> users found this comment helpful.                                1\n",
       "Amyotrophic Lateral Sclerosis                                              1\n",
       "Somatoform Pain Disorde                                                    1\n",
       "Esophageal Spasm                                                           1\n",
       "Giant Cell Tumor of Bone                                                   1\n",
       "Wound Cleansing                                                            1\n",
       "79</span> users found this comment helpful.                                1\n",
       "Gallbladder Disease                                                        1\n",
       "84</span> users found this comment helpful.                                1\n",
       "Schilling Test                                                             1\n",
       "Oppositional Defiant Disorde                                               1\n",
       "Legionella Pneumonia                                                       1\n",
       "Dissociative Identity Disorde                                              1\n",
       "Hydrocephalus                                                              1\n",
       "Hyperlipoproteinemia Type III, Elevated beta-VLDL   IDL                    1\n",
       "Q Feve                                                                     1\n",
       "Neutropenia                                                                1\n",
       "Name: condition, dtype: int64"
      ]
     },
     "execution_count": 90,
     "metadata": {},
     "output_type": "execute_result"
    }
   ],
   "source": [
    "y.value_counts()"
   ]
  },
  {
   "cell_type": "code",
   "execution_count": 105,
   "id": "390b6609",
   "metadata": {},
   "outputs": [],
   "source": [
    "counts=clf_df['condition'].value_counts()"
   ]
  },
  {
   "cell_type": "code",
   "execution_count": 107,
   "id": "e3208d5c",
   "metadata": {},
   "outputs": [],
   "source": [
    "to_save=counts[counts>=2000].index"
   ]
  },
  {
   "cell_type": "code",
   "execution_count": 110,
   "id": "4624d6f0",
   "metadata": {},
   "outputs": [],
   "source": [
    "ml_df=clf_df[clf_df.condition.isin(to_save)]"
   ]
  },
  {
   "cell_type": "code",
   "execution_count": 113,
   "id": "0dc4c38d",
   "metadata": {},
   "outputs": [
    {
     "data": {
      "text/plain": [
       "((85659, 4), (160398, 8))"
      ]
     },
     "execution_count": 113,
     "metadata": {},
     "output_type": "execute_result"
    }
   ],
   "source": [
    "ml_df.shape,df.shape"
   ]
  },
  {
   "cell_type": "code",
   "execution_count": 281,
   "id": "692b9d1a",
   "metadata": {},
   "outputs": [
    {
     "data": {
      "text/html": [
       "<div>\n",
       "<style scoped>\n",
       "    .dataframe tbody tr th:only-of-type {\n",
       "        vertical-align: middle;\n",
       "    }\n",
       "\n",
       "    .dataframe tbody tr th {\n",
       "        vertical-align: top;\n",
       "    }\n",
       "\n",
       "    .dataframe thead th {\n",
       "        text-align: right;\n",
       "    }\n",
       "</style>\n",
       "<table border=\"1\" class=\"dataframe\">\n",
       "  <thead>\n",
       "    <tr style=\"text-align: right;\">\n",
       "      <th></th>\n",
       "      <th>condition</th>\n",
       "      <th>review</th>\n",
       "      <th>l_review</th>\n",
       "      <th>final_review</th>\n",
       "    </tr>\n",
       "  </thead>\n",
       "  <tbody>\n",
       "    <tr>\n",
       "      <th>0</th>\n",
       "      <td>ADHD</td>\n",
       "      <td>My son is halfway through his fourth week of I...</td>\n",
       "      <td>My son is halfway through his fourth week of I...</td>\n",
       "      <td>My son halfway fourth week Intuniv We became c...</td>\n",
       "    </tr>\n",
       "    <tr>\n",
       "      <th>1</th>\n",
       "      <td>Birth Control</td>\n",
       "      <td>I used to take another oral contraceptive whic...</td>\n",
       "      <td>I used to take another oral contraceptive whic...</td>\n",
       "      <td>I used take another oral contraceptive pill cy...</td>\n",
       "    </tr>\n",
       "    <tr>\n",
       "      <th>2</th>\n",
       "      <td>Birth Control</td>\n",
       "      <td>This is my first time using any form of birth ...</td>\n",
       "      <td>This is my first time using any form of birth ...</td>\n",
       "      <td>This first time using form birth control Im gl...</td>\n",
       "    </tr>\n",
       "    <tr>\n",
       "      <th>3</th>\n",
       "      <td>Emergency Contraception</td>\n",
       "      <td>He pulled out but he cummed a bit in me I took...</td>\n",
       "      <td>He pulled out but he cummed a bit in me I took...</td>\n",
       "      <td>He pulled cummed bit I took Plan B hour later ...</td>\n",
       "    </tr>\n",
       "    <tr>\n",
       "      <th>4</th>\n",
       "      <td>Bipolar Disorde</td>\n",
       "      <td>Abilify changed my life There is hope I was on...</td>\n",
       "      <td>Abilify changed my life There is hope I wa on ...</td>\n",
       "      <td>Abilify changed life There hope I wa Zoloft Cl...</td>\n",
       "    </tr>\n",
       "  </tbody>\n",
       "</table>\n",
       "</div>"
      ],
      "text/plain": [
       "                 condition                                             review  \\\n",
       "0                     ADHD  My son is halfway through his fourth week of I...   \n",
       "1            Birth Control  I used to take another oral contraceptive whic...   \n",
       "2            Birth Control  This is my first time using any form of birth ...   \n",
       "3  Emergency Contraception  He pulled out but he cummed a bit in me I took...   \n",
       "4          Bipolar Disorde  Abilify changed my life There is hope I was on...   \n",
       "\n",
       "                                            l_review  \\\n",
       "0  My son is halfway through his fourth week of I...   \n",
       "1  I used to take another oral contraceptive whic...   \n",
       "2  This is my first time using any form of birth ...   \n",
       "3  He pulled out but he cummed a bit in me I took...   \n",
       "4  Abilify changed my life There is hope I wa on ...   \n",
       "\n",
       "                                        final_review  \n",
       "0  My son halfway fourth week Intuniv We became c...  \n",
       "1  I used take another oral contraceptive pill cy...  \n",
       "2  This first time using form birth control Im gl...  \n",
       "3  He pulled cummed bit I took Plan B hour later ...  \n",
       "4  Abilify changed life There hope I wa Zoloft Cl...  "
      ]
     },
     "execution_count": 281,
     "metadata": {},
     "output_type": "execute_result"
    }
   ],
   "source": [
    "ml_df.head()"
   ]
  },
  {
   "cell_type": "code",
   "execution_count": 128,
   "id": "6827e937",
   "metadata": {},
   "outputs": [],
   "source": [
    "# to predict 15 class of disease"
   ]
  },
  {
   "cell_type": "code",
   "execution_count": 280,
   "id": "93e24a24",
   "metadata": {},
   "outputs": [
    {
     "name": "stderr",
     "output_type": "stream",
     "text": [
      "C:\\Users\\user\\AppData\\Local\\Temp\\ipykernel_3904\\3661400728.py:1: SettingWithCopyWarning: \n",
      "A value is trying to be set on a copy of a slice from a DataFrame\n",
      "\n",
      "See the caveats in the documentation: https://pandas.pydata.org/pandas-docs/stable/user_guide/indexing.html#returning-a-view-versus-a-copy\n",
      "  ml_df.drop('index',inplace=True,axis=1)\n"
     ]
    }
   ],
   "source": [
    "ml_df.drop('index',inplace=True,axis=1)"
   ]
  },
  {
   "cell_type": "code",
   "execution_count": 283,
   "id": "3fb794e3",
   "metadata": {},
   "outputs": [],
   "source": [
    "X=ml_df['final_review']\n",
    "y=ml_df['condition']"
   ]
  },
  {
   "cell_type": "code",
   "execution_count": 132,
   "id": "ca6f9bbd",
   "metadata": {},
   "outputs": [],
   "source": [
    "X_train, X_test, y_train, y_test = train_test_split(X, y,stratify=y,test_size=0.2, random_state=42)"
   ]
  },
  {
   "cell_type": "code",
   "execution_count": 327,
   "id": "bee9bb3d",
   "metadata": {},
   "outputs": [],
   "source": [
    "cv= CountVectorizer(stop_words='english',max_df=0.75,ngram_range=(1, 2),max_features=20000)\n",
    "\n",
    "cv_train = cv.fit_transform(X_train)\n",
    "\n",
    "cv_test = cv.transform(X_test)"
   ]
  },
  {
   "cell_type": "code",
   "execution_count": 328,
   "id": "ff3eb221",
   "metadata": {
    "scrolled": true
   },
   "outputs": [
    {
     "name": "stdout",
     "output_type": "stream",
     "text": [
      "accuracy:   0.838\n"
     ]
    }
   ],
   "source": [
    "mnb = MultinomialNB()\n",
    "mnb.fit(cv_train, y_train)\n",
    "pred1 = mnb.predict(cv_test)\n",
    "score = metrics.accuracy_score(y_test, pred1)\n",
    "print(\"accuracy:   %0.3f\" % score) "
   ]
  },
  {
   "cell_type": "code",
   "execution_count": 332,
   "id": "80abe601",
   "metadata": {
    "scrolled": true
   },
   "outputs": [
    {
     "data": {
      "text/plain": [
       "0.16221106700910576"
      ]
     },
     "execution_count": 332,
     "metadata": {},
     "output_type": "execute_result"
    }
   ],
   "source": [
    "hamming_loss(y_test, pred1)"
   ]
  },
  {
   "cell_type": "code",
   "execution_count": 335,
   "id": "bc449015",
   "metadata": {},
   "outputs": [],
   "source": [
    "text=['i feel very cranky and sleepy all day, i dont feel like waking up, i am angry and lazy']\n",
    "hub=cv.transform(text) #.reshape(1, -1)"
   ]
  },
  {
   "cell_type": "code",
   "execution_count": 336,
   "id": "18b6dc19",
   "metadata": {
    "scrolled": false
   },
   "outputs": [
    {
     "data": {
      "text/plain": [
       "array(['Depression'], dtype='<U25')"
      ]
     },
     "execution_count": 336,
     "metadata": {},
     "output_type": "execute_result"
    }
   ],
   "source": [
    "mnb.predict(hub)"
   ]
  },
  {
   "cell_type": "code",
   "execution_count": 138,
   "id": "2c17ef70",
   "metadata": {},
   "outputs": [],
   "source": [
    "from sklearn.neighbors import KNeighborsClassifier"
   ]
  },
  {
   "cell_type": "code",
   "execution_count": 139,
   "id": "035ae269",
   "metadata": {},
   "outputs": [
    {
     "name": "stderr",
     "output_type": "stream",
     "text": [
      "C:\\Users\\user\\anaconda3\\lib\\site-packages\\sklearn\\neighbors\\_classification.py:228: FutureWarning: Unlike other reduction functions (e.g. `skew`, `kurtosis`), the default behavior of `mode` typically preserves the axis it acts along. In SciPy 1.11.0, this behavior will change: the default value of `keepdims` will become False, the `axis` over which the statistic is taken will be eliminated, and the value None will no longer be accepted. Set `keepdims` to True or False to avoid this warning.\n",
      "  mode, _ = stats.mode(_y[neigh_ind, k], axis=1)\n"
     ]
    },
    {
     "name": "stdout",
     "output_type": "stream",
     "text": [
      "accuracy:   0.670\n"
     ]
    }
   ],
   "source": [
    "knn = KNeighborsClassifier(n_neighbors=1)\n",
    "knn.fit(cv_train, y_train)\n",
    "pred = knn.predict(cv_test)\n",
    "score = metrics.accuracy_score(y_test, pred)\n",
    "print(\"accuracy:   %0.3f\" % score) "
   ]
  },
  {
   "cell_type": "code",
   "execution_count": 173,
   "id": "58373c9b",
   "metadata": {},
   "outputs": [
    {
     "data": {
      "text/plain": [
       "0.3904389446649545"
      ]
     },
     "execution_count": 173,
     "metadata": {},
     "output_type": "execute_result"
    }
   ],
   "source": [
    "hamming_loss(y_test, pred)"
   ]
  },
  {
   "cell_type": "code",
   "execution_count": 17,
   "id": "2e49c5a8",
   "metadata": {},
   "outputs": [],
   "source": [
    "from sklearn.feature_extraction.text import TfidfVectorizer\n"
   ]
  },
  {
   "cell_type": "code",
   "execution_count": 329,
   "id": "2804b503",
   "metadata": {},
   "outputs": [],
   "source": [
    "tidf= TfidfVectorizer(stop_words='english', max_features=15000, max_df=0.8,ngram_range=(1,2))\n",
    "t_train = tidf.fit_transform(X_train)\n",
    "\n",
    "t_test = tidf.transform(X_test)"
   ]
  },
  {
   "cell_type": "code",
   "execution_count": 330,
   "id": "a4f1d701",
   "metadata": {},
   "outputs": [
    {
     "name": "stdout",
     "output_type": "stream",
     "text": [
      "accuracy:   0.813\n"
     ]
    }
   ],
   "source": [
    "mnbtf = MultinomialNB()\n",
    "mnbtf.fit(t_train, y_train)\n",
    "pred2 = mnbtf.predict(t_test)\n",
    "score = metrics.accuracy_score(y_test, pred2)\n",
    "print(\"accuracy:   %0.3f\" % score) "
   ]
  },
  {
   "cell_type": "code",
   "execution_count": 331,
   "id": "7c21d2dd",
   "metadata": {},
   "outputs": [
    {
     "data": {
      "text/plain": [
       "0.18748540742470232"
      ]
     },
     "execution_count": 331,
     "metadata": {},
     "output_type": "execute_result"
    }
   ],
   "source": [
    "hamming_loss(y_test, pred2)"
   ]
  },
  {
   "cell_type": "code",
   "execution_count": 338,
   "id": "83c087c4",
   "metadata": {},
   "outputs": [],
   "source": [
    "text_tif=['i feel very cranky and sleepy all day, i dont feel like waking up, i am angry and lazy']\n",
    "hub_tif=tidf.transform(text) #.reshape(1, -1)"
   ]
  },
  {
   "cell_type": "code",
   "execution_count": 340,
   "id": "775f3239",
   "metadata": {
    "scrolled": true
   },
   "outputs": [],
   "source": [
    "result_tif=mnbtf.predict(hub_tif)"
   ]
  },
  {
   "cell_type": "code",
   "execution_count": 350,
   "id": "2be8ff0f",
   "metadata": {
    "scrolled": true
   },
   "outputs": [
    {
     "data": {
      "text/html": [
       "<div>\n",
       "<style scoped>\n",
       "    .dataframe tbody tr th:only-of-type {\n",
       "        vertical-align: middle;\n",
       "    }\n",
       "\n",
       "    .dataframe tbody tr th {\n",
       "        vertical-align: top;\n",
       "    }\n",
       "\n",
       "    .dataframe thead th {\n",
       "        text-align: right;\n",
       "    }\n",
       "</style>\n",
       "<table border=\"1\" class=\"dataframe\">\n",
       "  <thead>\n",
       "    <tr style=\"text-align: right;\">\n",
       "      <th></th>\n",
       "      <th>drugName</th>\n",
       "      <th>usefulCount</th>\n",
       "    </tr>\n",
       "  </thead>\n",
       "  <tbody>\n",
       "    <tr>\n",
       "      <th>6674</th>\n",
       "      <td>Sertraline</td>\n",
       "      <td>1291</td>\n",
       "    </tr>\n",
       "    <tr>\n",
       "      <th>33349</th>\n",
       "      <td>Zoloft</td>\n",
       "      <td>1291</td>\n",
       "    </tr>\n",
       "    <tr>\n",
       "      <th>145314</th>\n",
       "      <td>Zoloft</td>\n",
       "      <td>949</td>\n",
       "    </tr>\n",
       "    <tr>\n",
       "      <th>151979</th>\n",
       "      <td>Celexa</td>\n",
       "      <td>771</td>\n",
       "    </tr>\n",
       "    <tr>\n",
       "      <th>2028</th>\n",
       "      <td>Citalopram</td>\n",
       "      <td>771</td>\n",
       "    </tr>\n",
       "  </tbody>\n",
       "</table>\n",
       "</div>"
      ],
      "text/plain": [
       "          drugName  usefulCount\n",
       "6674    Sertraline         1291\n",
       "33349       Zoloft         1291\n",
       "145314      Zoloft          949\n",
       "151979      Celexa          771\n",
       "2028    Citalopram          771"
      ]
     },
     "execution_count": 350,
     "metadata": {},
     "output_type": "execute_result"
    }
   ],
   "source": [
    "df[df['condition']==result_tif[0]][['drugName','usefulCount']].sort_values('usefulCount',ascending=False).head(5)"
   ]
  },
  {
   "cell_type": "code",
   "execution_count": 352,
   "id": "3b972918",
   "metadata": {},
   "outputs": [],
   "source": [
    "def most_informative_feature_for_class(vectorizer, classifier, classlabel, n=10):\n",
    "    labelid = list(classifier.classes_).index(classlabel)\n",
    "    feature_names = vectorizer.get_feature_names()\n",
    "    topn = sorted(zip(classifier.coef_[labelid], feature_names))[-n:]\n",
    "\n",
    "    for coef, feat in topn:\n",
    "        print (classlabel, feat, coef)"
   ]
  },
  {
   "cell_type": "code",
   "execution_count": 354,
   "id": "a75e567c",
   "metadata": {},
   "outputs": [
    {
     "name": "stderr",
     "output_type": "stream",
     "text": [
      "C:\\Users\\user\\anaconda3\\lib\\site-packages\\sklearn\\utils\\deprecation.py:87: FutureWarning: Function get_feature_names is deprecated; get_feature_names is deprecated in 1.0 and will be removed in 1.2. Please use get_feature_names_out instead.\n",
      "  warnings.warn(msg, category=FutureWarning)\n"
     ]
    },
    {
     "name": "stdout",
     "output_type": "stream",
     "text": [
      "Birth Control year -5.642591673248187\n",
      "Birth Control im -5.596193596173997\n",
      "Birth Control ive -5.437212918733357\n",
      "Birth Control control -5.424210406899902\n",
      "Birth Control birth control -5.418022087595799\n",
      "Birth Control birth -5.391730981203909\n",
      "Birth Control pill -5.214398203464046\n",
      "Birth Control month -5.121786245221603\n",
      "Birth Control wa -5.019944231472163\n",
      "Birth Control period -4.927941295142861\n"
     ]
    },
    {
     "name": "stderr",
     "output_type": "stream",
     "text": [
      "C:\\Users\\user\\anaconda3\\lib\\site-packages\\sklearn\\utils\\deprecation.py:103: FutureWarning: Attribute `coef_` was deprecated in version 0.24 and will be removed in 1.1 (renaming of 0.26).\n",
      "  warnings.warn(msg, category=FutureWarning)\n"
     ]
    }
   ],
   "source": [
    "most_informative_feature_for_class(tidf, mnbtf, 'Birth Control')"
   ]
  },
  {
   "cell_type": "code",
   "execution_count": 358,
   "id": "4ec1c207",
   "metadata": {
    "scrolled": true
   },
   "outputs": [
    {
     "name": "stdout",
     "output_type": "stream",
     "text": [
      "Insomnia wa -5.994056776940453\n",
      "Insomnia wake -5.899149543749816\n",
      "Insomnia work -5.865863050093098\n",
      "Insomnia insomnia -5.587355240391938\n",
      "Insomnia hour -5.553364960248255\n",
      "Insomnia mg -5.433817837597111\n",
      "Insomnia asleep -5.398069723985971\n",
      "Insomnia ambien -5.308346544199882\n",
      "Insomnia night -5.154506666798633\n",
      "Insomnia sleep -4.545230283325494\n"
     ]
    }
   ],
   "source": [
    "most_informative_feature_for_class(tidf, mnbtf, 'Insomnia')"
   ]
  },
  {
   "cell_type": "code",
   "execution_count": 359,
   "id": "ec990fd9",
   "metadata": {
    "scrolled": true
   },
   "outputs": [
    {
     "name": "stdout",
     "output_type": "stream",
     "text": [
      "Depression taking -5.801802734143334\n",
      "Depression week -5.794780246855711\n",
      "Depression year -5.786519287160886\n",
      "Depression day -5.753760333081609\n",
      "Depression anxiety -5.682493718436265\n",
      "Depression effect -5.640592801065457\n",
      "Depression feel -5.560968186115868\n",
      "Depression wa -5.295880096112205\n",
      "Depression mg -5.236418553493874\n",
      "Depression depression -5.103048735171846\n"
     ]
    }
   ],
   "source": [
    "most_informative_feature_for_class(tidf, mnbtf, 'Depression')"
   ]
  },
  {
   "cell_type": "code",
   "execution_count": 360,
   "id": "ceb503fe",
   "metadata": {
    "scrolled": true
   },
   "outputs": [
    {
     "name": "stdout",
     "output_type": "stream",
     "text": [
      "High Blood Pressure year -6.222472685881216\n",
      "High Blood Pressure medicine -6.094963520591389\n",
      "High Blood Pressure wa -6.069934239931852\n",
      "High Blood Pressure taking -6.0605831460652615\n",
      "High Blood Pressure mg -5.929254702017925\n",
      "High Blood Pressure effect -5.784777286909223\n",
      "High Blood Pressure bp -5.744406779766838\n",
      "High Blood Pressure blood -5.002000686993628\n",
      "High Blood Pressure blood pressure -4.879648973323476\n",
      "High Blood Pressure pressure -4.833680059451859\n"
     ]
    }
   ],
   "source": [
    "most_informative_feature_for_class(tidf, mnbtf, 'High Blood Pressure')"
   ]
  },
  {
   "cell_type": "markdown",
   "id": "a4334e91",
   "metadata": {},
   "source": [
    "# trying from cosine similarity method"
   ]
  },
  {
   "cell_type": "code",
   "execution_count": 5,
   "id": "0a2dc72c",
   "metadata": {},
   "outputs": [],
   "source": [
    "from sklearn.metrics.pairwise import cosine_similarity"
   ]
  },
  {
   "cell_type": "code",
   "execution_count": 6,
   "id": "6781fa84",
   "metadata": {},
   "outputs": [],
   "source": [
    "cf=df[['condition','review']]"
   ]
  },
  {
   "cell_type": "code",
   "execution_count": 7,
   "id": "b7d7722b",
   "metadata": {},
   "outputs": [
    {
     "name": "stderr",
     "output_type": "stream",
     "text": [
      "C:\\Users\\user\\AppData\\Local\\Temp\\ipykernel_5944\\2461326213.py:1: SettingWithCopyWarning: \n",
      "A value is trying to be set on a copy of a slice from a DataFrame\n",
      "\n",
      "See the caveats in the documentation: https://pandas.pydata.org/pandas-docs/stable/user_guide/indexing.html#returning-a-view-versus-a-copy\n",
      "  cf.dropna(inplace=True)\n"
     ]
    }
   ],
   "source": [
    "cf.dropna(inplace=True)"
   ]
  },
  {
   "cell_type": "code",
   "execution_count": 8,
   "id": "8ba3e9e4",
   "metadata": {},
   "outputs": [
    {
     "data": {
      "text/plain": [
       "condition    0\n",
       "review       0\n",
       "dtype: int64"
      ]
     },
     "execution_count": 8,
     "metadata": {},
     "output_type": "execute_result"
    }
   ],
   "source": [
    "cf.isnull().sum()"
   ]
  },
  {
   "cell_type": "code",
   "execution_count": 16,
   "id": "47513958",
   "metadata": {},
   "outputs": [
    {
     "name": "stderr",
     "output_type": "stream",
     "text": [
      "C:\\Users\\user\\AppData\\Local\\Temp\\ipykernel_5944\\946041399.py:1: SettingWithCopyWarning: \n",
      "A value is trying to be set on a copy of a slice from a DataFrame.\n",
      "Try using .loc[row_indexer,col_indexer] = value instead\n",
      "\n",
      "See the caveats in the documentation: https://pandas.pydata.org/pandas-docs/stable/user_guide/indexing.html#returning-a-view-versus-a-copy\n",
      "  cf['cleaned_review']=cf['review'].apply(remove_special_characters)\n"
     ]
    }
   ],
   "source": [
    "cf['cleaned_review']=cf['review'].apply(remove_special_characters)"
   ]
  },
  {
   "cell_type": "code",
   "execution_count": 32,
   "id": "23259c6b",
   "metadata": {},
   "outputs": [
    {
     "data": {
      "text/plain": [
       "((73951, 3), (161297, 7))"
      ]
     },
     "execution_count": 32,
     "metadata": {},
     "output_type": "execute_result"
    }
   ],
   "source": [
    "counts=cf['condition'].value_counts()\n",
    "\n",
    "to_save_df=counts[counts>=3382].index\n",
    "\n",
    "cs_df=cf[cf.condition.isin(to_save_df)]\n",
    "\n",
    "cs_df.shape,df.shape"
   ]
  },
  {
   "cell_type": "code",
   "execution_count": 31,
   "id": "90deba7e",
   "metadata": {
    "collapsed": true
   },
   "outputs": [
    {
     "data": {
      "text/plain": [
       "Birth Control      28788\n",
       "Depression          9069\n",
       "Pain                6145\n",
       "Anxiety             5904\n",
       "Acne                5588\n",
       "Bipolar Disorde     4224\n",
       "Insomnia            3673\n",
       "Weight Loss         3609\n",
       "Obesity             3568\n",
       "ADHD                3383\n",
       "Name: condition, dtype: int64"
      ]
     },
     "execution_count": 31,
     "metadata": {},
     "output_type": "execute_result"
    }
   ],
   "source": [
    "cf['condition'].value_counts().head(10)"
   ]
  },
  {
   "cell_type": "code",
   "execution_count": 33,
   "id": "aed11135",
   "metadata": {},
   "outputs": [
    {
     "data": {
      "text/plain": [
       "(85659, 3)"
      ]
     },
     "execution_count": 33,
     "metadata": {},
     "output_type": "execute_result"
    }
   ],
   "source": [
    "cd_df.shape"
   ]
  },
  {
   "cell_type": "code",
   "execution_count": 35,
   "id": "1d965746",
   "metadata": {},
   "outputs": [],
   "source": [
    "combined_features=cs_df['condition']+' '+cs_df['cleaned_review']"
   ]
  },
  {
   "cell_type": "code",
   "execution_count": 36,
   "id": "8cdaed96",
   "metadata": {},
   "outputs": [
    {
     "data": {
      "text/plain": [
       "73951"
      ]
     },
     "execution_count": 36,
     "metadata": {},
     "output_type": "execute_result"
    }
   ],
   "source": [
    "len(combined_features)"
   ]
  },
  {
   "cell_type": "code",
   "execution_count": 38,
   "id": "07898b24",
   "metadata": {},
   "outputs": [],
   "source": [
    "tidf= TfidfVectorizer(stop_words='english', max_features=10000, max_df=0.8,ngram_range=(1,2))\n",
    "tf_vects = tidf.fit_transform(combined_features)\n"
   ]
  },
  {
   "cell_type": "code",
   "execution_count": 41,
   "id": "b133c7da",
   "metadata": {},
   "outputs": [
    {
     "data": {
      "text/plain": [
       "(73951, 10000)"
      ]
     },
     "execution_count": 41,
     "metadata": {},
     "output_type": "execute_result"
    }
   ],
   "source": [
    "tf_vects.shape"
   ]
  },
  {
   "cell_type": "code",
   "execution_count": 42,
   "id": "b1187362",
   "metadata": {
    "collapsed": true
   },
   "outputs": [
    {
     "ename": "MemoryError",
     "evalue": "Unable to allocate 32.6 GiB for an array with shape (4376220235,) and data type int64",
     "output_type": "error",
     "traceback": [
      "\u001b[1;31m---------------------------------------------------------------------------\u001b[0m",
      "\u001b[1;31mMemoryError\u001b[0m                               Traceback (most recent call last)",
      "\u001b[1;32m~\\AppData\\Local\\Temp\\ipykernel_5944\\944110414.py\u001b[0m in \u001b[0;36m<module>\u001b[1;34m\u001b[0m\n\u001b[1;32m----> 1\u001b[1;33m \u001b[0msimlilarity\u001b[0m\u001b[1;33m=\u001b[0m\u001b[0mcosine_similarity\u001b[0m\u001b[1;33m(\u001b[0m\u001b[0mtf_vects\u001b[0m\u001b[1;33m)\u001b[0m\u001b[1;33m\u001b[0m\u001b[1;33m\u001b[0m\u001b[0m\n\u001b[0m",
      "\u001b[1;32m~\\anaconda3\\lib\\site-packages\\sklearn\\metrics\\pairwise.py\u001b[0m in \u001b[0;36mcosine_similarity\u001b[1;34m(X, Y, dense_output)\u001b[0m\n\u001b[0;32m   1257\u001b[0m         \u001b[0mY_normalized\u001b[0m \u001b[1;33m=\u001b[0m \u001b[0mnormalize\u001b[0m\u001b[1;33m(\u001b[0m\u001b[0mY\u001b[0m\u001b[1;33m,\u001b[0m \u001b[0mcopy\u001b[0m\u001b[1;33m=\u001b[0m\u001b[1;32mTrue\u001b[0m\u001b[1;33m)\u001b[0m\u001b[1;33m\u001b[0m\u001b[1;33m\u001b[0m\u001b[0m\n\u001b[0;32m   1258\u001b[0m \u001b[1;33m\u001b[0m\u001b[0m\n\u001b[1;32m-> 1259\u001b[1;33m     \u001b[0mK\u001b[0m \u001b[1;33m=\u001b[0m \u001b[0msafe_sparse_dot\u001b[0m\u001b[1;33m(\u001b[0m\u001b[0mX_normalized\u001b[0m\u001b[1;33m,\u001b[0m \u001b[0mY_normalized\u001b[0m\u001b[1;33m.\u001b[0m\u001b[0mT\u001b[0m\u001b[1;33m,\u001b[0m \u001b[0mdense_output\u001b[0m\u001b[1;33m=\u001b[0m\u001b[0mdense_output\u001b[0m\u001b[1;33m)\u001b[0m\u001b[1;33m\u001b[0m\u001b[1;33m\u001b[0m\u001b[0m\n\u001b[0m\u001b[0;32m   1260\u001b[0m \u001b[1;33m\u001b[0m\u001b[0m\n\u001b[0;32m   1261\u001b[0m     \u001b[1;32mreturn\u001b[0m \u001b[0mK\u001b[0m\u001b[1;33m\u001b[0m\u001b[1;33m\u001b[0m\u001b[0m\n",
      "\u001b[1;32m~\\anaconda3\\lib\\site-packages\\sklearn\\utils\\extmath.py\u001b[0m in \u001b[0;36msafe_sparse_dot\u001b[1;34m(a, b, dense_output)\u001b[0m\n\u001b[0;32m    151\u001b[0m             \u001b[0mret\u001b[0m \u001b[1;33m=\u001b[0m \u001b[0mnp\u001b[0m\u001b[1;33m.\u001b[0m\u001b[0mdot\u001b[0m\u001b[1;33m(\u001b[0m\u001b[0ma\u001b[0m\u001b[1;33m,\u001b[0m \u001b[0mb\u001b[0m\u001b[1;33m)\u001b[0m\u001b[1;33m\u001b[0m\u001b[1;33m\u001b[0m\u001b[0m\n\u001b[0;32m    152\u001b[0m     \u001b[1;32melse\u001b[0m\u001b[1;33m:\u001b[0m\u001b[1;33m\u001b[0m\u001b[1;33m\u001b[0m\u001b[0m\n\u001b[1;32m--> 153\u001b[1;33m         \u001b[0mret\u001b[0m \u001b[1;33m=\u001b[0m \u001b[0ma\u001b[0m \u001b[1;33m@\u001b[0m \u001b[0mb\u001b[0m\u001b[1;33m\u001b[0m\u001b[1;33m\u001b[0m\u001b[0m\n\u001b[0m\u001b[0;32m    154\u001b[0m \u001b[1;33m\u001b[0m\u001b[0m\n\u001b[0;32m    155\u001b[0m     if (\n",
      "\u001b[1;32m~\\anaconda3\\lib\\site-packages\\scipy\\sparse\\_base.py\u001b[0m in \u001b[0;36m__matmul__\u001b[1;34m(self, other)\u001b[0m\n\u001b[0;32m    628\u001b[0m             raise ValueError(\"Scalar operands are not allowed, \"\n\u001b[0;32m    629\u001b[0m                              \"use '*' instead\")\n\u001b[1;32m--> 630\u001b[1;33m         \u001b[1;32mreturn\u001b[0m \u001b[0mself\u001b[0m\u001b[1;33m.\u001b[0m\u001b[0m_mul_dispatch\u001b[0m\u001b[1;33m(\u001b[0m\u001b[0mother\u001b[0m\u001b[1;33m)\u001b[0m\u001b[1;33m\u001b[0m\u001b[1;33m\u001b[0m\u001b[0m\n\u001b[0m\u001b[0;32m    631\u001b[0m \u001b[1;33m\u001b[0m\u001b[0m\n\u001b[0;32m    632\u001b[0m     \u001b[1;32mdef\u001b[0m \u001b[0m__rmatmul__\u001b[0m\u001b[1;33m(\u001b[0m\u001b[0mself\u001b[0m\u001b[1;33m,\u001b[0m \u001b[0mother\u001b[0m\u001b[1;33m)\u001b[0m\u001b[1;33m:\u001b[0m\u001b[1;33m\u001b[0m\u001b[1;33m\u001b[0m\u001b[0m\n",
      "\u001b[1;32m~\\anaconda3\\lib\\site-packages\\scipy\\sparse\\_base.py\u001b[0m in \u001b[0;36m_mul_dispatch\u001b[1;34m(self, other)\u001b[0m\n\u001b[0;32m    539\u001b[0m             \u001b[1;32mif\u001b[0m \u001b[0mself\u001b[0m\u001b[1;33m.\u001b[0m\u001b[0mshape\u001b[0m\u001b[1;33m[\u001b[0m\u001b[1;36m1\u001b[0m\u001b[1;33m]\u001b[0m \u001b[1;33m!=\u001b[0m \u001b[0mother\u001b[0m\u001b[1;33m.\u001b[0m\u001b[0mshape\u001b[0m\u001b[1;33m[\u001b[0m\u001b[1;36m0\u001b[0m\u001b[1;33m]\u001b[0m\u001b[1;33m:\u001b[0m\u001b[1;33m\u001b[0m\u001b[1;33m\u001b[0m\u001b[0m\n\u001b[0;32m    540\u001b[0m                 \u001b[1;32mraise\u001b[0m \u001b[0mValueError\u001b[0m\u001b[1;33m(\u001b[0m\u001b[1;34m'dimension mismatch'\u001b[0m\u001b[1;33m)\u001b[0m\u001b[1;33m\u001b[0m\u001b[1;33m\u001b[0m\u001b[0m\n\u001b[1;32m--> 541\u001b[1;33m             \u001b[1;32mreturn\u001b[0m \u001b[0mself\u001b[0m\u001b[1;33m.\u001b[0m\u001b[0m_mul_sparse_matrix\u001b[0m\u001b[1;33m(\u001b[0m\u001b[0mother\u001b[0m\u001b[1;33m)\u001b[0m\u001b[1;33m\u001b[0m\u001b[1;33m\u001b[0m\u001b[0m\n\u001b[0m\u001b[0;32m    542\u001b[0m \u001b[1;33m\u001b[0m\u001b[0m\n\u001b[0;32m    543\u001b[0m         \u001b[1;31m# If it's a list or whatever, treat it like a matrix\u001b[0m\u001b[1;33m\u001b[0m\u001b[1;33m\u001b[0m\u001b[0m\n",
      "\u001b[1;32m~\\anaconda3\\lib\\site-packages\\scipy\\sparse\\_compressed.py\u001b[0m in \u001b[0;36m_mul_sparse_matrix\u001b[1;34m(self, other)\u001b[0m\n\u001b[0;32m    527\u001b[0m \u001b[1;33m\u001b[0m\u001b[0m\n\u001b[0;32m    528\u001b[0m         \u001b[0mindptr\u001b[0m \u001b[1;33m=\u001b[0m \u001b[0mnp\u001b[0m\u001b[1;33m.\u001b[0m\u001b[0mempty\u001b[0m\u001b[1;33m(\u001b[0m\u001b[0mmajor_axis\u001b[0m \u001b[1;33m+\u001b[0m \u001b[1;36m1\u001b[0m\u001b[1;33m,\u001b[0m \u001b[0mdtype\u001b[0m\u001b[1;33m=\u001b[0m\u001b[0midx_dtype\u001b[0m\u001b[1;33m)\u001b[0m\u001b[1;33m\u001b[0m\u001b[1;33m\u001b[0m\u001b[0m\n\u001b[1;32m--> 529\u001b[1;33m         \u001b[0mindices\u001b[0m \u001b[1;33m=\u001b[0m \u001b[0mnp\u001b[0m\u001b[1;33m.\u001b[0m\u001b[0mempty\u001b[0m\u001b[1;33m(\u001b[0m\u001b[0mnnz\u001b[0m\u001b[1;33m,\u001b[0m \u001b[0mdtype\u001b[0m\u001b[1;33m=\u001b[0m\u001b[0midx_dtype\u001b[0m\u001b[1;33m)\u001b[0m\u001b[1;33m\u001b[0m\u001b[1;33m\u001b[0m\u001b[0m\n\u001b[0m\u001b[0;32m    530\u001b[0m         \u001b[0mdata\u001b[0m \u001b[1;33m=\u001b[0m \u001b[0mnp\u001b[0m\u001b[1;33m.\u001b[0m\u001b[0mempty\u001b[0m\u001b[1;33m(\u001b[0m\u001b[0mnnz\u001b[0m\u001b[1;33m,\u001b[0m \u001b[0mdtype\u001b[0m\u001b[1;33m=\u001b[0m\u001b[0mupcast\u001b[0m\u001b[1;33m(\u001b[0m\u001b[0mself\u001b[0m\u001b[1;33m.\u001b[0m\u001b[0mdtype\u001b[0m\u001b[1;33m,\u001b[0m \u001b[0mother\u001b[0m\u001b[1;33m.\u001b[0m\u001b[0mdtype\u001b[0m\u001b[1;33m)\u001b[0m\u001b[1;33m)\u001b[0m\u001b[1;33m\u001b[0m\u001b[1;33m\u001b[0m\u001b[0m\n\u001b[0;32m    531\u001b[0m \u001b[1;33m\u001b[0m\u001b[0m\n",
      "\u001b[1;31mMemoryError\u001b[0m: Unable to allocate 32.6 GiB for an array with shape (4376220235,) and data type int64"
     ]
    }
   ],
   "source": [
    "simlilarity=cosine_similarity(tf_vects)"
   ]
  },
  {
   "cell_type": "code",
   "execution_count": null,
   "id": "d7b6896e",
   "metadata": {},
   "outputs": [],
   "source": []
  },
  {
   "cell_type": "code",
   "execution_count": null,
   "id": "fde92051",
   "metadata": {},
   "outputs": [],
   "source": []
  },
  {
   "cell_type": "markdown",
   "id": "0a028913",
   "metadata": {},
   "source": [
    "# using tensor flow"
   ]
  },
  {
   "cell_type": "code",
   "execution_count": 177,
   "id": "43454524",
   "metadata": {},
   "outputs": [],
   "source": [
    " from tensorflow.keras.layers import Dense,TextVectorization"
   ]
  },
  {
   "cell_type": "code",
   "execution_count": 175,
   "id": "19563ba5",
   "metadata": {},
   "outputs": [],
   "source": [
    "import tensorflow as tf"
   ]
  },
  {
   "cell_type": "code",
   "execution_count": 195,
   "id": "a34e200f",
   "metadata": {},
   "outputs": [],
   "source": [
    "vect=TextVectorization(output_sequence_length=1800,max_tokens=20000) #after reaching 1800 it will padd out the data"
   ]
  },
  {
   "cell_type": "code",
   "execution_count": 210,
   "id": "79a41b9a",
   "metadata": {},
   "outputs": [],
   "source": [
    "vect.adapt(X.values)\n"
   ]
  },
  {
   "cell_type": "code",
   "execution_count": 198,
   "id": "b006b89b",
   "metadata": {},
   "outputs": [
    {
     "data": {
      "text/plain": [
       "[array([b'i', b'wa', b'day', ..., b'inguinal', b'ingredinets',\n",
       "        b'ingredientsquot'], dtype=object)]"
      ]
     },
     "execution_count": 198,
     "metadata": {},
     "output_type": "execute_result"
    }
   ],
   "source": [
    "vect.get_weights()"
   ]
  },
  {
   "cell_type": "code",
   "execution_count": null,
   "id": "e9801c66",
   "metadata": {},
   "outputs": [],
   "source": [
    "vect.get_vocabulary()"
   ]
  },
  {
   "cell_type": "code",
   "execution_count": 211,
   "id": "4cec1e9e",
   "metadata": {},
   "outputs": [],
   "source": [
    "vect_txt=vect(X.values) #tokenising the data "
   ]
  },
  {
   "cell_type": "code",
   "execution_count": 240,
   "id": "bbf3fe19",
   "metadata": {},
   "outputs": [
    {
     "data": {
      "text/plain": [
       "15"
      ]
     },
     "execution_count": 240,
     "metadata": {},
     "output_type": "execute_result"
    }
   ],
   "source": [
    "len(y.unique())"
   ]
  },
  {
   "cell_type": "code",
   "execution_count": 266,
   "id": "e7d79c00",
   "metadata": {},
   "outputs": [],
   "source": [
    "from sklearn.preprocessing import OneHotEncoder"
   ]
  },
  {
   "cell_type": "code",
   "execution_count": 267,
   "id": "1f82bb06",
   "metadata": {},
   "outputs": [],
   "source": [
    "ohe=OneHotEncoder(Y)"
   ]
  },
  {
   "cell_type": "code",
   "execution_count": 287,
   "id": "d0494c27",
   "metadata": {},
   "outputs": [],
   "source": [
    "Y=y.to_frame()"
   ]
  },
  {
   "cell_type": "code",
   "execution_count": 288,
   "id": "7e64bc6b",
   "metadata": {},
   "outputs": [],
   "source": [
    "y_tf=pd.DataFrame(ohe.fit_transform(Y).toarray())"
   ]
  },
  {
   "cell_type": "code",
   "execution_count": 289,
   "id": "228e7001",
   "metadata": {},
   "outputs": [
    {
     "data": {
      "text/html": [
       "<div>\n",
       "<style scoped>\n",
       "    .dataframe tbody tr th:only-of-type {\n",
       "        vertical-align: middle;\n",
       "    }\n",
       "\n",
       "    .dataframe tbody tr th {\n",
       "        vertical-align: top;\n",
       "    }\n",
       "\n",
       "    .dataframe thead th {\n",
       "        text-align: right;\n",
       "    }\n",
       "</style>\n",
       "<table border=\"1\" class=\"dataframe\">\n",
       "  <thead>\n",
       "    <tr style=\"text-align: right;\">\n",
       "      <th></th>\n",
       "      <th>0</th>\n",
       "      <th>1</th>\n",
       "      <th>2</th>\n",
       "      <th>3</th>\n",
       "      <th>4</th>\n",
       "      <th>5</th>\n",
       "      <th>6</th>\n",
       "      <th>7</th>\n",
       "      <th>8</th>\n",
       "      <th>9</th>\n",
       "      <th>10</th>\n",
       "      <th>11</th>\n",
       "      <th>12</th>\n",
       "      <th>13</th>\n",
       "      <th>14</th>\n",
       "    </tr>\n",
       "  </thead>\n",
       "  <tbody>\n",
       "    <tr>\n",
       "      <th>0</th>\n",
       "      <td>1.0</td>\n",
       "      <td>0.0</td>\n",
       "      <td>0.0</td>\n",
       "      <td>0.0</td>\n",
       "      <td>0.0</td>\n",
       "      <td>0.0</td>\n",
       "      <td>0.0</td>\n",
       "      <td>0.0</td>\n",
       "      <td>0.0</td>\n",
       "      <td>0.0</td>\n",
       "      <td>0.0</td>\n",
       "      <td>0.0</td>\n",
       "      <td>0.0</td>\n",
       "      <td>0.0</td>\n",
       "      <td>0.0</td>\n",
       "    </tr>\n",
       "    <tr>\n",
       "      <th>1</th>\n",
       "      <td>0.0</td>\n",
       "      <td>0.0</td>\n",
       "      <td>0.0</td>\n",
       "      <td>0.0</td>\n",
       "      <td>0.0</td>\n",
       "      <td>1.0</td>\n",
       "      <td>0.0</td>\n",
       "      <td>0.0</td>\n",
       "      <td>0.0</td>\n",
       "      <td>0.0</td>\n",
       "      <td>0.0</td>\n",
       "      <td>0.0</td>\n",
       "      <td>0.0</td>\n",
       "      <td>0.0</td>\n",
       "      <td>0.0</td>\n",
       "    </tr>\n",
       "    <tr>\n",
       "      <th>2</th>\n",
       "      <td>0.0</td>\n",
       "      <td>0.0</td>\n",
       "      <td>0.0</td>\n",
       "      <td>0.0</td>\n",
       "      <td>0.0</td>\n",
       "      <td>1.0</td>\n",
       "      <td>0.0</td>\n",
       "      <td>0.0</td>\n",
       "      <td>0.0</td>\n",
       "      <td>0.0</td>\n",
       "      <td>0.0</td>\n",
       "      <td>0.0</td>\n",
       "      <td>0.0</td>\n",
       "      <td>0.0</td>\n",
       "      <td>0.0</td>\n",
       "    </tr>\n",
       "    <tr>\n",
       "      <th>3</th>\n",
       "      <td>0.0</td>\n",
       "      <td>0.0</td>\n",
       "      <td>0.0</td>\n",
       "      <td>0.0</td>\n",
       "      <td>0.0</td>\n",
       "      <td>0.0</td>\n",
       "      <td>0.0</td>\n",
       "      <td>0.0</td>\n",
       "      <td>1.0</td>\n",
       "      <td>0.0</td>\n",
       "      <td>0.0</td>\n",
       "      <td>0.0</td>\n",
       "      <td>0.0</td>\n",
       "      <td>0.0</td>\n",
       "      <td>0.0</td>\n",
       "    </tr>\n",
       "    <tr>\n",
       "      <th>4</th>\n",
       "      <td>0.0</td>\n",
       "      <td>0.0</td>\n",
       "      <td>0.0</td>\n",
       "      <td>0.0</td>\n",
       "      <td>1.0</td>\n",
       "      <td>0.0</td>\n",
       "      <td>0.0</td>\n",
       "      <td>0.0</td>\n",
       "      <td>0.0</td>\n",
       "      <td>0.0</td>\n",
       "      <td>0.0</td>\n",
       "      <td>0.0</td>\n",
       "      <td>0.0</td>\n",
       "      <td>0.0</td>\n",
       "      <td>0.0</td>\n",
       "    </tr>\n",
       "  </tbody>\n",
       "</table>\n",
       "</div>"
      ],
      "text/plain": [
       "    0    1    2    3    4    5    6    7    8    9    10   11   12   13   14\n",
       "0  1.0  0.0  0.0  0.0  0.0  0.0  0.0  0.0  0.0  0.0  0.0  0.0  0.0  0.0  0.0\n",
       "1  0.0  0.0  0.0  0.0  0.0  1.0  0.0  0.0  0.0  0.0  0.0  0.0  0.0  0.0  0.0\n",
       "2  0.0  0.0  0.0  0.0  0.0  1.0  0.0  0.0  0.0  0.0  0.0  0.0  0.0  0.0  0.0\n",
       "3  0.0  0.0  0.0  0.0  0.0  0.0  0.0  0.0  1.0  0.0  0.0  0.0  0.0  0.0  0.0\n",
       "4  0.0  0.0  0.0  0.0  1.0  0.0  0.0  0.0  0.0  0.0  0.0  0.0  0.0  0.0  0.0"
      ]
     },
     "execution_count": 289,
     "metadata": {},
     "output_type": "execute_result"
    }
   ],
   "source": [
    "y_tf.head()"
   ]
  },
  {
   "cell_type": "code",
   "execution_count": 290,
   "id": "e6ff8eee",
   "metadata": {},
   "outputs": [],
   "source": [
    "#map, cachec, shuffle,batch,prefect from tensorslice,\n",
    "data=tf.data.Dataset.from_tensor_slices((vect_txt,y_tf))\n",
    "data=data.cache()\n",
    "data=data.shuffle(160000) #buffer size\n",
    "data=data.batch(16) # batch of series of 16 sample\n",
    "data=data.prefetch(8) #helps prevent bottle necks"
   ]
  },
  {
   "cell_type": "code",
   "execution_count": null,
   "id": "c2633de6",
   "metadata": {},
   "outputs": [],
   "source": [
    "# text in vect format and y labels"
   ]
  },
  {
   "cell_type": "code",
   "execution_count": 291,
   "id": "d3914abb",
   "metadata": {},
   "outputs": [],
   "source": [
    "batch_X,batch_y=data.as_numpy_iterator().next()"
   ]
  },
  {
   "cell_type": "code",
   "execution_count": 292,
   "id": "127d797b",
   "metadata": {},
   "outputs": [
    {
     "data": {
      "text/plain": [
       "((16, 1800), (16, 15))"
      ]
     },
     "execution_count": 292,
     "metadata": {},
     "output_type": "execute_result"
    }
   ],
   "source": [
    "batch_X.shape,batch_y.shape"
   ]
  },
  {
   "cell_type": "code",
   "execution_count": 293,
   "id": "47ad1214",
   "metadata": {},
   "outputs": [],
   "source": [
    "train_tf=data.take(int(len(data)*0.7))\n",
    "val=data.skip(int(len(data)*0.7)).take(int(len(data)*0.2))\n",
    "test=data.skip(int(len(data)*0.9)).take(int(len(data)*0.1))"
   ]
  },
  {
   "cell_type": "code",
   "execution_count": 294,
   "id": "8afa1e91",
   "metadata": {},
   "outputs": [
    {
     "data": {
      "text/plain": [
       "(3747, 1070, 535, 16, 5354)"
      ]
     },
     "execution_count": 294,
     "metadata": {},
     "output_type": "execute_result"
    }
   ],
   "source": [
    "len(train_tf),len(val),len(test),len(batch_X),len(data)"
   ]
  },
  {
   "cell_type": "code",
   "execution_count": 225,
   "id": "143062cb",
   "metadata": {},
   "outputs": [],
   "source": [
    "train_gen=train_tf.as_numpy_iterator().next()"
   ]
  },
  {
   "cell_type": "code",
   "execution_count": 227,
   "id": "5eb4198a",
   "metadata": {
    "collapsed": true
   },
   "outputs": [
    {
     "data": {
      "text/plain": [
       "(array([[  12,  630, 1015, ...,    0,    0,    0],\n",
       "        [   2,   17, 2699, ...,    0,    0,    0],\n",
       "        [  12,  649,  145, ...,    0,    0,    0],\n",
       "        ...,\n",
       "        [   2, 4163,    7, ...,    0,    0,    0],\n",
       "        [  12,   88,   10, ...,    0,    0,    0],\n",
       "        [   2,  858,   27, ...,    0,    0,    0]], dtype=int64),\n",
       " array([b'Acne', b'Depression', b'Acne', b'Acne', b'Bipolar Disorde',\n",
       "        b'Depression', b'Birth Control', b'Obesity',\n",
       "        b'Vaginal Yeast Infection', b'Depression', b'Birth Control',\n",
       "        b'Birth Control', b'Abnormal Uterine Bleeding', b'Birth Control',\n",
       "        b'Birth Control', b'Diabetes, Type 2'], dtype=object))"
      ]
     },
     "execution_count": 227,
     "metadata": {},
     "output_type": "execute_result"
    }
   ],
   "source": [
    "train_gen.next()"
   ]
  },
  {
   "cell_type": "markdown",
   "id": "2595ce35",
   "metadata": {},
   "source": [
    "# deep learning model"
   ]
  },
  {
   "cell_type": "code",
   "execution_count": 254,
   "id": "c6691d1a",
   "metadata": {},
   "outputs": [],
   "source": [
    "from tensorflow.keras.models import Sequential\n",
    "from tensorflow.keras.layers import LSTM,Dropout, Bidirectional,Embedding,Flatten"
   ]
  },
  {
   "cell_type": "code",
   "execution_count": 299,
   "id": "f5392cf5",
   "metadata": {},
   "outputs": [],
   "source": [
    "model=Sequential()\n",
    "model.add(Embedding(20000+1,32))\n",
    "model.add(Bidirectional(LSTM(32,activation='tanh')))\n",
    "model.add(Dense(128,activation='relu'))\n",
    "model.add(Dense(256,activation='relu'))\n",
    "model.add(Dense(128,activation='relu'))\n",
    "model.add(Dense(128,activation='relu'))\n",
    "model.add(Flatten())\n",
    "model.add(Dense(15,activation='softmax')) #final layer"
   ]
  },
  {
   "cell_type": "code",
   "execution_count": 303,
   "id": "2710d3c2",
   "metadata": {},
   "outputs": [],
   "source": [
    "model.compile(loss='categorical_crossentropy',optimizer='Adam',metrics=['accuracy'])"
   ]
  },
  {
   "cell_type": "code",
   "execution_count": 304,
   "id": "43a0b664",
   "metadata": {},
   "outputs": [
    {
     "name": "stdout",
     "output_type": "stream",
     "text": [
      "Model: \"sequential_5\"\n",
      "_________________________________________________________________\n",
      " Layer (type)                Output Shape              Param #   \n",
      "=================================================================\n",
      " embedding_4 (Embedding)     (None, None, 32)          640032    \n",
      "                                                                 \n",
      " bidirectional_4 (Bidirectio  (None, 64)               16640     \n",
      " nal)                                                            \n",
      "                                                                 \n",
      " dense_19 (Dense)            (None, 128)               8320      \n",
      "                                                                 \n",
      " dense_20 (Dense)            (None, 256)               33024     \n",
      "                                                                 \n",
      " dense_21 (Dense)            (None, 128)               32896     \n",
      "                                                                 \n",
      " dense_22 (Dense)            (None, 128)               16512     \n",
      "                                                                 \n",
      " flatten_1 (Flatten)         (None, 128)               0         \n",
      "                                                                 \n",
      " dense_23 (Dense)            (None, 15)                1935      \n",
      "                                                                 \n",
      "=================================================================\n",
      "Total params: 749,359\n",
      "Trainable params: 749,359\n",
      "Non-trainable params: 0\n",
      "_________________________________________________________________\n"
     ]
    }
   ],
   "source": [
    "model.summary()"
   ]
  },
  {
   "cell_type": "code",
   "execution_count": 305,
   "id": "2fae65b5",
   "metadata": {},
   "outputs": [
    {
     "name": "stdout",
     "output_type": "stream",
     "text": [
      "3747/3747 [==============================] - 6781s 2s/step - loss: 0.9018 - accuracy: 0.6849 - val_loss: 0.5159 - val_accuracy: 0.8171\n"
     ]
    },
    {
     "data": {
      "text/plain": [
       "<keras.callbacks.History at 0x17b5805dca0>"
      ]
     },
     "execution_count": 305,
     "metadata": {},
     "output_type": "execute_result"
    }
   ],
   "source": [
    "model.fit(train_tf,epochs=1,validation_data=val)"
   ]
  },
  {
   "cell_type": "code",
   "execution_count": 309,
   "id": "d047a754",
   "metadata": {},
   "outputs": [],
   "source": [
    "input_txt=vect(['i feel very cranky and sleepy all day'])"
   ]
  },
  {
   "cell_type": "code",
   "execution_count": 310,
   "id": "c99ba590",
   "metadata": {
    "scrolled": true
   },
   "outputs": [
    {
     "name": "stdout",
     "output_type": "stream",
     "text": [
      "1/1 [==============================] - 19s 19s/step\n"
     ]
    },
    {
     "data": {
      "text/plain": [
       "array([[0.07899219, 0.00483116, 0.00858389, 0.07704106, 0.19005755,\n",
       "        0.01366973, 0.12712485, 0.01565679, 0.0068479 , 0.1376945 ,\n",
       "        0.23116092, 0.01828908, 0.06252836, 0.00963321, 0.01788883]],\n",
       "      dtype=float32)"
      ]
     },
     "execution_count": 310,
     "metadata": {},
     "output_type": "execute_result"
    }
   ],
   "source": [
    "model.predict(np.array(input_txt))"
   ]
  },
  {
   "cell_type": "code",
   "execution_count": 314,
   "id": "fcc044eb",
   "metadata": {
    "scrolled": true
   },
   "outputs": [
    {
     "data": {
      "text/plain": [
       "'Insomnia'"
      ]
     },
     "execution_count": 314,
     "metadata": {},
     "output_type": "execute_result"
    }
   ],
   "source": [
    "#11 as 0.23 score\n",
    "Y['condition'][10] # that is a some what a bad prediction"
   ]
  },
  {
   "cell_type": "code",
   "execution_count": null,
   "id": "1d19bcd6",
   "metadata": {},
   "outputs": [],
   "source": []
  },
  {
   "cell_type": "code",
   "execution_count": 312,
   "id": "02236e7d",
   "metadata": {},
   "outputs": [],
   "source": [
    "res=model.predict(np.expand_dims(input_txt,0))"
   ]
  },
  {
   "cell_type": "code",
   "execution_count": null,
   "id": "666e779d",
   "metadata": {},
   "outputs": [],
   "source": [
    "tbatch_X,tbatch_y=test.as_numpy_iterator().next()"
   ]
  },
  {
   "cell_type": "code",
   "execution_count": null,
   "id": "9d10bc9e",
   "metadata": {},
   "outputs": [],
   "source": [
    "model.predict(tbatch_X[:10])"
   ]
  },
  {
   "cell_type": "code",
   "execution_count": null,
   "id": "4d57f877",
   "metadata": {},
   "outputs": [],
   "source": [
    "(model.predict(tbatch_X)>0.5)astype(int)"
   ]
  },
  {
   "cell_type": "code",
   "execution_count": 306,
   "id": "25afcefc",
   "metadata": {},
   "outputs": [
    {
     "data": {
      "text/plain": [
       "'My son halfway fourth week Intuniv We became concerned began last week started taking highest dose For two day could hardly get bed wa cranky slept nearly hour drive home school vacation unusual I called doctor Monday morning said stick day See school getting morning The last two day problem free He MUCH agreeable ever He le emotional good thing le cranky He remembering thing Overall behavior better We tried many different medication far effective'"
      ]
     },
     "execution_count": 306,
     "metadata": {},
     "output_type": "execute_result"
    }
   ],
   "source": [
    "ml_df['final_review'][0]"
   ]
  },
  {
   "cell_type": "code",
   "execution_count": null,
   "id": "4b90b56c",
   "metadata": {},
   "outputs": [],
   "source": []
  }
 ],
 "metadata": {
  "kernelspec": {
   "display_name": "Python 3 (ipykernel)",
   "language": "python",
   "name": "python3"
  },
  "language_info": {
   "codemirror_mode": {
    "name": "ipython",
    "version": 3
   },
   "file_extension": ".py",
   "mimetype": "text/x-python",
   "name": "python",
   "nbconvert_exporter": "python",
   "pygments_lexer": "ipython3",
   "version": "3.9.13"
  }
 },
 "nbformat": 4,
 "nbformat_minor": 5
}
